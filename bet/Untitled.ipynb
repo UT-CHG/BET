{
 "cells": [
  {
   "cell_type": "code",
   "execution_count": 17,
   "metadata": {},
   "outputs": [],
   "source": [
    "import bet.postProcess.compareP as cp\n",
    "import bet.sampling.basicSampling as bsam\n",
    "import bet.sample as sample\n",
    "import numpy as np\n",
    "import matplotlib.pyplot as plt\n",
    "import ipywidgets as wd\n",
    "import bet.calculateP.calculateP as calcP\n",
    "import scipy.spatial.distance as ds\n"
   ]
  },
  {
   "cell_type": "code",
   "execution_count": 18,
   "metadata": {},
   "outputs": [],
   "source": [
    "def set_center(num_samples=100,\n",
    "                   dim=2,\n",
    "                   delta=0.1, reg=False):\n",
    "    r\"\"\"\n",
    "    Make unit square domain, create a hyperrectangle with sidelengths\n",
    "    delta centered around `np.array([[0.5]]*dim)\n",
    "    \"\"\"\n",
    "    s_set = sample.sample_set(dim)\n",
    "    s_set.set_domain(np.array([[0, 1]]*dim))\n",
    "    if reg:\n",
    "        s = bsam.regular_sample_set(s_set, num_samples)\n",
    "    else:\n",
    "        s = bsam.random_sample_set('r', s_set, num_samples)\n",
    "    dd = delta/2.0\n",
    "    if dim > 1:\n",
    "        probs = 1*(np.sum(np.logical_and(s._values <= (0.5+dd),\n",
    "                                     s._values >= (0.5-dd)), axis=1) >= dim-1)\n",
    "    else:\n",
    "        probs = 1*(np.logical_and(s._values <= (0.5+dd),\n",
    "                                     s._values >= (0.5-dd)))\n",
    "    s.set_probabilities(probs/np.sum(probs))  # uniform probabilities\n",
    "    s.estimate_volume_mc()\n",
    "    s.global_to_local()\n",
    "    return s\n",
    "\n",
    "def set_zero(num_samples=100,\n",
    "                   dim=2,\n",
    "                   delta=0.1, reg=False):\n",
    "    r\"\"\"\n",
    "    Make unit square domain, create a hyperrectangle with sidelengths\n",
    "    delta centered around `np.array([[0.5]]*dim)\n",
    "    \"\"\"\n",
    "    s_set = sample.sample_set(dim)\n",
    "    s_set.set_domain(np.array([[0, 1]]*dim))\n",
    "    if reg:\n",
    "        s = bsam.regular_sample_set(s_set, num_samples)\n",
    "    else:\n",
    "        s = bsam.random_sample_set('r', s_set, num_samples)    \n",
    "    dd = delta\n",
    "    if dim == 1:\n",
    "        probs = 1*(s._values <= dd)\n",
    "    else:\n",
    "        probs = 1*(np.sum(s._values <= dd, axis=1) >= dim-1)\n",
    "    s.set_probabilities(probs/np.sum(probs))  # uniform probabilities\n",
    "    s.estimate_volume_mc()\n",
    "    s.global_to_local()\n",
    "    return s\n",
    "\n",
    "def set_one(num_samples=100,\n",
    "                   dim=2,\n",
    "                   delta=0.1, reg=False):\n",
    "    r\"\"\"\n",
    "    Make unit square domain, create a hyperrectangle with sidelengths\n",
    "    delta centered around `np.array([[0.5]]*dim)\n",
    "    \"\"\"\n",
    "    s_set = sample.sample_set(dim)\n",
    "    s_set.set_domain(np.array([[0, 1]]*dim))\n",
    "    if reg:\n",
    "        s = bsam.regular_sample_set(s_set, num_samples)\n",
    "    else:\n",
    "        s = bsam.random_sample_set('r', s_set, num_samples)\n",
    "    \n",
    "    dd = delta\n",
    "    if dim == 1:\n",
    "        probs = 1*(s._values >= (1-dd))\n",
    "    else:\n",
    "        probs = 1*(np.sum(s._values >= (1-dd), axis=1) >= dim-1)\n",
    "    s.set_probabilities(probs/np.sum(probs))  # uniform probabilities\n",
    "    s.estimate_volume_mc()\n",
    "    s.global_to_local()\n",
    "    return s\n",
    "\n",
    "def check_densities(s_set, dim=2, delta=0.1, tol=1e-4):\n",
    "    # density values should be reciprocal of delta^dim\n",
    "    s = s_set\n",
    "    dd = delta/2.0\n",
    "    if dim > 1:\n",
    "        marks = 1*(np.sum(np.logical_and(s._values <= (0.5+dd),\n",
    "                                     s._values >= (0.5-dd)), axis=1) >= dim-1)\n",
    "    else:\n",
    "        marks = 1*(np.logical_and(s._values <= (0.5+dd),\n",
    "                                     s._values >= (0.5-dd)))\n",
    "        \n",
    "    true_den_val = 1.0/(delta**dim)  \n",
    "    err = np.mean(np.abs(s_set._den - true_den_val*(marks))) \n",
    "    if err < tol:\n",
    "        return 1\n",
    "    else:\n",
    "        return err\n",
    "    \n",
    "def answer_sq_hell(dim,d1=0.1,d2=0.2):\n",
    "    f1 = d1**(-dim)\n",
    "    f2 = d2**(-dim)\n",
    "    s1, s2 = np.sqrt(f1), np.sqrt(f2)\n",
    "    \n",
    "    single = s2*(d2-d1)\n",
    "    overlap = d1*(s1-s2)\n",
    "    return (single + overlap)/2\n",
    "\n",
    "def answer_tv(dim,d1=0.1,d2=0.2):\n",
    "    f1 = d1**(-dim)\n",
    "    f2 = d2**(-dim)\n",
    "    \n",
    "    single = f2*(d2-d1)\n",
    "    overlap = d1*(f1-f2)\n",
    "    return np.array(single + overlap)/2"
   ]
  },
  {
   "cell_type": "code",
   "execution_count": 96,
   "metadata": {},
   "outputs": [
    {
     "data": {
      "text/plain": [
       "1.436185190311417"
      ]
     },
     "execution_count": 96,
     "metadata": {},
     "output_type": "execute_result"
    }
   ],
   "source": [
    "dim=1\n",
    "n=1000\n",
    "n1=2000\n",
    "n2=10\n",
    "delta = 0.3\n",
    "# s = set_unit_probs(n1, dim, delta)\n",
    "# r = set_unit_probs(n2, dim, delta)\n",
    "s = set_zero(n1, dim, delta)\n",
    "r = set_one(n2, dim, delta)\n",
    "i = sample.sample_set(dim)\n",
    "i.set_domain(np.array([[0, 1]]*dim))\n",
    "I = bsam.random_sample_set('r', i, n)\n",
    "# i = bsam.regular_sample_set(i, n//10)\n",
    "m = cp.metrization(I,s,r)\n",
    "m.estimate_density()\n",
    "check_densities(s,dim,delta,0.01)"
   ]
  },
  {
   "cell_type": "markdown",
   "metadata": {},
   "source": [
    "## Use `calcP.prob_from_sample_set` to compare"
   ]
  },
  {
   "cell_type": "code",
   "execution_count": 97,
   "metadata": {},
   "outputs": [
    {
     "data": {
      "text/plain": [
       "<matplotlib.collections.PathCollection at 0x7fd89b4b2fd0>"
      ]
     },
     "execution_count": 97,
     "metadata": {},
     "output_type": "execute_result"
    },
    {
     "data": {
      "image/png": "[encoded data removed]",
      "text/plain": [
       "<Figure size 432x288 with 1 Axes>"
      ]
     },
     "metadata": {
      "needs_background": "light"
     },
     "output_type": "display_data"
    }
   ],
   "source": [
    "plt.scatter(s._values, s._probabilities, alpha=1,s=5,c='blue')\n",
    "# plt.scatter(I._values, r._den, alpha=0.25,s=10)\n",
    "\n",
    "calcP.prob_from_sample_set(s,I)\n",
    "# I._volumes = s._volumes[m.get_io_ptr_left()]\n",
    "# I._probabilities /= I._volumes\n",
    "plt.scatter(I._values, I._probabilities, alpha=0.5, s=5, c='r')\n",
    "# plt.ylim(0,2)"
   ]
  },
  {
   "cell_type": "code",
   "execution_count": 70,
   "metadata": {},
   "outputs": [
    {
     "data": {
      "text/plain": [
       "\u001b[0;31mSignature:\u001b[0m \u001b[0mcalcP\u001b[0m\u001b[0;34m.\u001b[0m\u001b[0mprob_from_sample_set\u001b[0m\u001b[0;34m(\u001b[0m\u001b[0mset_old\u001b[0m\u001b[0;34m,\u001b[0m \u001b[0mset_new\u001b[0m\u001b[0;34m)\u001b[0m\u001b[0;34m\u001b[0m\u001b[0;34m\u001b[0m\u001b[0m\n",
       "\u001b[0;31mSource:\u001b[0m   \n",
       "\u001b[0;32mdef\u001b[0m \u001b[0mprob_from_sample_set\u001b[0m\u001b[0;34m(\u001b[0m\u001b[0mset_old\u001b[0m\u001b[0;34m,\u001b[0m \u001b[0mset_new\u001b[0m\u001b[0;34m)\u001b[0m\u001b[0;34m:\u001b[0m\u001b[0;34m\u001b[0m\n",
       "\u001b[0;34m\u001b[0m    \u001b[0;34mr\"\"\"\u001b[0m\n",
       "\u001b[0;34m\u001b[0m\n",
       "\u001b[0;34m    Calculates :math:`P_{\\Lambda}(\\mathcal{V}_{\\lambda_{samples_new}})`\u001b[0m\n",
       "\u001b[0;34m    from :math:`P_{\\Lambda}(\\mathcal{V}_{\\lambda_{samples_old}})` using\u001b[0m\n",
       "\u001b[0;34m    the MC assumption with respect to set_old.\u001b[0m\n",
       "\u001b[0;34m\u001b[0m\n",
       "\u001b[0;34m    :param set_old: Sample set on which probabilities have already been\u001b[0m\n",
       "\u001b[0;34m        calculated\u001b[0m\n",
       "\u001b[0;34m    :type set_old: :class:`~bet.sample.sample_set_base` \u001b[0m\n",
       "\u001b[0;34m    :param set_new: Sample set for which probabilities will be calculated.\u001b[0m\n",
       "\u001b[0;34m    :type set_new: :class:`~bet.sample.sample_set_base` \u001b[0m\n",
       "\u001b[0;34m\u001b[0m\n",
       "\u001b[0;34m    \"\"\"\u001b[0m\u001b[0;34m\u001b[0m\n",
       "\u001b[0;34m\u001b[0m    \u001b[0;31m# Check dimensions\u001b[0m\u001b[0;34m\u001b[0m\n",
       "\u001b[0;34m\u001b[0m    \u001b[0mset_old\u001b[0m\u001b[0;34m.\u001b[0m\u001b[0mcheck_num\u001b[0m\u001b[0;34m(\u001b[0m\u001b[0;34m)\u001b[0m\u001b[0;34m\u001b[0m\n",
       "\u001b[0;34m\u001b[0m    \u001b[0mnum_new\u001b[0m \u001b[0;34m=\u001b[0m \u001b[0mset_new\u001b[0m\u001b[0;34m.\u001b[0m\u001b[0mcheck_num\u001b[0m\u001b[0;34m(\u001b[0m\u001b[0;34m)\u001b[0m\u001b[0;34m\u001b[0m\n",
       "\u001b[0;34m\u001b[0m\u001b[0;34m\u001b[0m\n",
       "\u001b[0;34m\u001b[0m    \u001b[0;32mif\u001b[0m \u001b[0;34m(\u001b[0m\u001b[0mset_old\u001b[0m\u001b[0;34m.\u001b[0m\u001b[0m_dim\u001b[0m \u001b[0;34m!=\u001b[0m \u001b[0mset_new\u001b[0m\u001b[0;34m.\u001b[0m\u001b[0m_dim\u001b[0m\u001b[0;34m)\u001b[0m\u001b[0;34m:\u001b[0m\u001b[0;34m\u001b[0m\n",
       "\u001b[0;34m\u001b[0m        \u001b[0;32mraise\u001b[0m \u001b[0msamp\u001b[0m\u001b[0;34m.\u001b[0m\u001b[0mdim_not_matching\u001b[0m\u001b[0;34m(\u001b[0m\u001b[0;34m\"Dimensions of sets are not equal.\"\u001b[0m\u001b[0;34m)\u001b[0m\u001b[0;34m\u001b[0m\n",
       "\u001b[0;34m\u001b[0m\u001b[0;34m\u001b[0m\n",
       "\u001b[0;34m\u001b[0m    \u001b[0;31m# Map old points new sets\u001b[0m\u001b[0;34m\u001b[0m\n",
       "\u001b[0;34m\u001b[0m    \u001b[0;32mif\u001b[0m \u001b[0mset_old\u001b[0m\u001b[0;34m.\u001b[0m\u001b[0m_values_local\u001b[0m \u001b[0;32mis\u001b[0m \u001b[0;32mNone\u001b[0m\u001b[0;34m:\u001b[0m\u001b[0;34m\u001b[0m\n",
       "\u001b[0;34m\u001b[0m        \u001b[0mset_old\u001b[0m\u001b[0;34m.\u001b[0m\u001b[0mglobal_to_local\u001b[0m\u001b[0;34m(\u001b[0m\u001b[0;34m)\u001b[0m\u001b[0;34m\u001b[0m\n",
       "\u001b[0;34m\u001b[0m    \u001b[0;34m(\u001b[0m\u001b[0m_\u001b[0m\u001b[0;34m,\u001b[0m \u001b[0mptr\u001b[0m\u001b[0;34m)\u001b[0m \u001b[0;34m=\u001b[0m \u001b[0mset_new\u001b[0m\u001b[0;34m.\u001b[0m\u001b[0mquery\u001b[0m\u001b[0;34m(\u001b[0m\u001b[0mset_old\u001b[0m\u001b[0;34m.\u001b[0m\u001b[0m_values_local\u001b[0m\u001b[0;34m)\u001b[0m\u001b[0;34m\u001b[0m\n",
       "\u001b[0;34m\u001b[0m    \u001b[0mptr\u001b[0m \u001b[0;34m=\u001b[0m \u001b[0mptr\u001b[0m\u001b[0;34m.\u001b[0m\u001b[0mflat\u001b[0m\u001b[0;34m[\u001b[0m\u001b[0;34m:\u001b[0m\u001b[0;34m]\u001b[0m\u001b[0;34m\u001b[0m\n",
       "\u001b[0;34m\u001b[0m\u001b[0;34m\u001b[0m\n",
       "\u001b[0;34m\u001b[0m    \u001b[0;31m# Set up probability vector\u001b[0m\u001b[0;34m\u001b[0m\n",
       "\u001b[0;34m\u001b[0m    \u001b[0mprob_new\u001b[0m \u001b[0;34m=\u001b[0m \u001b[0mnp\u001b[0m\u001b[0;34m.\u001b[0m\u001b[0mzeros\u001b[0m\u001b[0;34m(\u001b[0m\u001b[0;34m(\u001b[0m\u001b[0mnum_new\u001b[0m\u001b[0;34m,\u001b[0m\u001b[0;34m)\u001b[0m\u001b[0;34m)\u001b[0m\u001b[0;34m\u001b[0m\n",
       "\u001b[0;34m\u001b[0m\u001b[0;34m\u001b[0m\n",
       "\u001b[0;34m\u001b[0m    \u001b[0;31m# Loop over new cells and distribute probability from old\u001b[0m\u001b[0;34m\u001b[0m\n",
       "\u001b[0;34m\u001b[0m    \u001b[0;32mfor\u001b[0m \u001b[0mi\u001b[0m \u001b[0;32min\u001b[0m \u001b[0mrange\u001b[0m\u001b[0;34m(\u001b[0m\u001b[0mnum_new\u001b[0m\u001b[0;34m)\u001b[0m\u001b[0;34m:\u001b[0m\u001b[0;34m\u001b[0m\n",
       "\u001b[0;34m\u001b[0m        \u001b[0mItemp\u001b[0m \u001b[0;34m=\u001b[0m \u001b[0mnp\u001b[0m\u001b[0;34m.\u001b[0m\u001b[0mequal\u001b[0m\u001b[0;34m(\u001b[0m\u001b[0mptr\u001b[0m\u001b[0;34m,\u001b[0m \u001b[0mi\u001b[0m\u001b[0;34m)\u001b[0m\u001b[0;34m\u001b[0m\n",
       "\u001b[0;34m\u001b[0m        \u001b[0mItemp_sum\u001b[0m \u001b[0;34m=\u001b[0m \u001b[0mnp\u001b[0m\u001b[0;34m.\u001b[0m\u001b[0msum\u001b[0m\u001b[0;34m(\u001b[0m\u001b[0mset_old\u001b[0m\u001b[0;34m.\u001b[0m\u001b[0m_probabilities_local\u001b[0m\u001b[0;34m[\u001b[0m\u001b[0mItemp\u001b[0m\u001b[0;34m]\u001b[0m\u001b[0;34m)\u001b[0m\u001b[0;34m\u001b[0m\n",
       "\u001b[0;34m\u001b[0m        \u001b[0mItemp_sum\u001b[0m \u001b[0;34m=\u001b[0m \u001b[0mcomm\u001b[0m\u001b[0;34m.\u001b[0m\u001b[0mallreduce\u001b[0m\u001b[0;34m(\u001b[0m\u001b[0mItemp_sum\u001b[0m\u001b[0;34m,\u001b[0m \u001b[0mop\u001b[0m\u001b[0;34m=\u001b[0m\u001b[0mMPI\u001b[0m\u001b[0;34m.\u001b[0m\u001b[0mSUM\u001b[0m\u001b[0;34m)\u001b[0m\u001b[0;34m\u001b[0m\n",
       "\u001b[0;34m\u001b[0m        \u001b[0mprob_new\u001b[0m\u001b[0;34m[\u001b[0m\u001b[0mi\u001b[0m\u001b[0;34m]\u001b[0m \u001b[0;34m=\u001b[0m \u001b[0mItemp_sum\u001b[0m\u001b[0;34m\u001b[0m\n",
       "\u001b[0;34m\u001b[0m\u001b[0;34m\u001b[0m\n",
       "\u001b[0;34m\u001b[0m    \u001b[0;31m# Set probabilities\u001b[0m\u001b[0;34m\u001b[0m\n",
       "\u001b[0;34m\u001b[0m    \u001b[0mset_new\u001b[0m\u001b[0;34m.\u001b[0m\u001b[0mset_probabilities\u001b[0m\u001b[0;34m(\u001b[0m\u001b[0mprob_new\u001b[0m\u001b[0;34m)\u001b[0m\u001b[0;34m\u001b[0m\n",
       "\u001b[0;34m\u001b[0m    \u001b[0;32mreturn\u001b[0m \u001b[0mprob_new\u001b[0m\u001b[0;34m\u001b[0m\u001b[0;34m\u001b[0m\u001b[0m\n",
       "\u001b[0;31mFile:\u001b[0m      /opt/conda/lib/python3.7/site-packages/bet-2.2.0-py3.7.egg/bet/calculateP/calculateP.py\n",
       "\u001b[0;31mType:\u001b[0m      function\n"
      ]
     },
     "metadata": {},
     "output_type": "display_data"
    }
   ],
   "source": [
    "calcP.prob_from_sample_set??"
   ]
  },
  {
   "cell_type": "code",
   "execution_count": 68,
   "metadata": {},
   "outputs": [],
   "source": [
    "np.sum(I._probabilities)"
   ]
  },
  {
   "cell_type": "code",
   "execution_count": 6,
   "metadata": {},
   "outputs": [
    {
     "data": {
      "text/plain": [
       "(0, 0.01)"
      ]
     },
     "execution_count": 6,
     "metadata": {},
     "output_type": "execute_result"
    },
    {
     "data": {
      "image/png": "[encoded data removed]",
      "text/plain": [
       "<Figure size 432x288 with 1 Axes>"
      ]
     },
     "metadata": {
      "needs_background": "light"
     },
     "output_type": "display_data"
    }
   ],
   "source": [
    "plt.scatter(I._values, s._prob)\n",
    "plt.scatter(I._values, r._prob)\n",
    "plt.scatter(I._values, I._probabilities, alpha=0.5,s=2)\n",
    "plt.ylim(0,0.01)"
   ]
  },
  {
   "cell_type": "code",
   "execution_count": 7,
   "metadata": {},
   "outputs": [
    {
     "data": {
      "text/plain": [
       "<matplotlib.collections.PathCollection at 0x7fd8a5d03748>"
      ]
     },
     "execution_count": 7,
     "metadata": {},
     "output_type": "execute_result"
    },
    {
     "data": {
      "image/png": "[encoded data removed]",
      "text/plain": [
       "<Figure size 432x288 with 1 Axes>"
      ]
     },
     "metadata": {
      "needs_background": "light"
     },
     "output_type": "display_data"
    }
   ],
   "source": [
    "I.estimate_volume_mc()\n",
    "cp.set_density(I)\n",
    "plt.scatter(I._values, I._den)"
   ]
  },
  {
   "cell_type": "markdown",
   "metadata": {},
   "source": [
    "Something strange is happening..."
   ]
  },
  {
   "cell_type": "code",
   "execution_count": 8,
   "metadata": {},
   "outputs": [
    {
     "data": {
      "text/plain": [
       "999.9999999999999"
      ]
     },
     "execution_count": 8,
     "metadata": {},
     "output_type": "execute_result"
    }
   ],
   "source": [
    "np.sum(I._probabilities)"
   ]
  },
  {
   "cell_type": "markdown",
   "metadata": {},
   "source": [
    "# Testing Meshes and Sample Sizes"
   ]
  },
  {
   "cell_type": "code",
   "execution_count": 20,
   "metadata": {},
   "outputs": [
    {
     "data": {
      "application/vnd.jupyter.widget-view+json": {
       "model_id": "2f689b8043a54923bdaf3909b54f52b2",
       "version_major": 2,
       "version_minor": 0
      },
      "text/plain": [
       "interactive(children=(IntSlider(value=500, continuous_update=False, description='n', max=10000, min=100, step=…"
      ]
     },
     "metadata": {},
     "output_type": "display_data"
    },
    {
     "data": {
      "text/plain": [
       "<function __main__.preview1d_reg(n=100, n_mesh=100, n_ref=1000, delta1=0.1, delta2=0.2, c1='r', c2='r', reg_mesh=False, reg_ref=False, dim=1)>"
      ]
     },
     "execution_count": 20,
     "metadata": {},
     "output_type": "execute_result"
    }
   ],
   "source": [
    "def preview1d_reg(n=100, n_mesh=100, n_ref=1000, delta1=0.1, delta2=0.2,\n",
    "                  c1='r',c2='r',reg_mesh=False, reg_ref=False, dim=1):\n",
    "    if c1 =='r':\n",
    "        s = set_one(n_ref, dim, delta1, reg_ref)\n",
    "    elif c1=='l':\n",
    "        s = set_zero(n_ref, dim, delta1, reg_ref)\n",
    "    else:\n",
    "        s = set_center(n_ref, dim, delta1, reg_ref)\n",
    "        \n",
    "    if c2 =='r':\n",
    "        r = set_one(n_mesh, dim, delta2, reg_mesh)\n",
    "    elif c2 =='l':\n",
    "        r = set_zero(n_mesh, dim, delta2, reg_mesh)\n",
    "    else:\n",
    "        r = set_center(n_mesh, dim, delta2, reg_mesh)\n",
    "    np.random.seed(10)\n",
    "    i = sample.sample_set(dim)\n",
    "    i.set_domain(np.array([[0, 1]]*dim))\n",
    "    I = bsam.random_sample_set('r', i, n)\n",
    "    s = cp.set_density(s)\n",
    "    r = cp.set_density(r)\n",
    "    mm = cp.metrization(I,s,r)\n",
    "    mm.estimate_density()\n",
    "    \n",
    "#     print(check_densities(s,dim,delta1,0.05))\n",
    "#     print(check_densities(r,dim,delta2,0.05))\n",
    "    \n",
    "    if dim == 1:\n",
    "        plt.scatter(I._values, s._den)\n",
    "        plt.scatter(I._values, r._den)\n",
    "        plt.ylim(0,15)\n",
    "        plt.hlines(5,0,1)\n",
    "        plt.hlines(10,0,1)\n",
    "    print(mm.distance(),mm.distance('sqhell'))\n",
    "#     print(answer_tv(dim,delta1,delta2),\n",
    "#           answer_sq_hell(dim,delta1,delta2))\n",
    "#     print(0.5*np.sum(np.abs(mm._den_left - mm._den_right))/I.check_num())\n",
    "wd.interact(preview1d_reg, \n",
    "            n=wd.IntSlider(500,100,10000,step=100, continuous_update=False),\n",
    "            n_ref=wd.IntSlider(500,100,10000,step=100, continuous_update=False),\n",
    "            n_mesh=wd.IntSlider(500,100,10000,step=100, continuous_update=False),\n",
    "            delta1=wd.FloatSlider(0.1,min=0.1,max=.75,step=0.05),\n",
    "            delta2=wd.FloatSlider(0.1,min=0.1,max=.75,step=0.05),\n",
    "            c1=wd.Dropdown(options=['c','r','l']), c2=wd.Dropdown(options=['c','r','l']),\n",
    "            reg_ref=wd.Checkbox(description=\"Regular Ref\"),\n",
    "            reg_mesh=wd.Checkbox(description=\"Regular Mesh\"),\n",
    "            dim=wd.IntSlider(1,1,5)\n",
    "           )"
   ]
  },
  {
   "cell_type": "markdown",
   "metadata": {},
   "source": [
    "# Convergence Study"
   ]
  },
  {
   "cell_type": "code",
   "execution_count": 51,
   "metadata": {},
   "outputs": [
    {
     "data": {
      "text/plain": [
       "[40, 80, 160, 320, 640, 1280, 2560]"
      ]
     },
     "execution_count": 51,
     "metadata": {},
     "output_type": "execute_result"
    }
   ],
   "source": [
    "nvals"
   ]
  },
  {
   "cell_type": "code",
   "execution_count": 56,
   "metadata": {},
   "outputs": [],
   "source": [
    "n_l, n_r = 20, 1000\n",
    "n = 1000\n",
    "dim = 1\n",
    "delta1, delta2 = 0.4, 0.5 # order so d1 < d2\n",
    "num_trials = 10\n",
    "nvals = [10*2**N for N in range(2,9)]\n",
    "hl = np.zeros((num_trials, len(nvals))) # data storage\n",
    "tl = np.zeros((num_trials, len(nvals)))\n",
    "\n",
    "i = sample.sample_set(dim)\n",
    "i.set_domain(np.array([[0, 1]]*dim))\n",
    "I = bsam.random_sample_set('r', i, n)\n",
    "# I = bsam.regular_sample_set(i, 10)\n",
    "\n",
    "s = set_center(n_l, dim, delta1, reg=True)\n",
    "r = set_center(n_r, dim, delta2, reg=False)\n",
    "m = cp.metrization(I,s,r)\n",
    "m.set_io_ptr_left()\n",
    "m.set_io_ptr_right()\n",
    "\n",
    "for t in range(num_trials):\n",
    "    hh = [] # temporary vectors\n",
    "    tv = []\n",
    "    #     np.random.seed(t)\n",
    "    for n in nvals:\n",
    "        # effect of MC integration error\n",
    "#         m.set_int(bsam.random_sample_set('r', i, n))\n",
    "#         m.set_io_ptr_left()\n",
    "#         m.set_io_ptr_right()\n",
    "        \n",
    "        # random sampling error relative to reference solution.\n",
    "        r = set_center(n, dim, delta2, reg=False)\n",
    "        m.set_right(r)\n",
    "        m.set_io_ptr_right()\n",
    "        \n",
    "        m.estimate_density()\n",
    "        hh.append(m.distance('sqhell'))\n",
    "        tv.append(m.distance('tv'))\n",
    "    hl[t,:] = np.array(hh) # averaging, cumulative sum.\n",
    "    tl[t,:] = np.array(tv)\n",
    "h = np.mean(hl, axis=0)\n",
    "t = np.mean(tl, axis=0)"
   ]
  },
  {
   "cell_type": "code",
   "execution_count": 58,
   "metadata": {},
   "outputs": [
    {
     "data": {
      "text/plain": [
       "array([6.16814504e-04, 8.95212116e-05, 5.08937509e-05, 1.30019269e-05,\n",
       "       3.63846784e-06, 3.97190870e-06, 3.24105675e-07])"
      ]
     },
     "execution_count": 58,
     "metadata": {},
     "output_type": "execute_result"
    }
   ],
   "source": [
    "np.var(hl-2*answer_sq_hell(dim,delta1,delta2), axis=0)"
   ]
  },
  {
   "cell_type": "code",
   "execution_count": 64,
   "metadata": {},
   "outputs": [
    {
     "data": {
      "image/png": "[encoded data removed]",
      "text/plain": [
       "<Figure size 1440x720 with 1 Axes>"
      ]
     },
     "metadata": {
      "needs_background": "light"
     },
     "output_type": "display_data"
    }
   ],
   "source": [
    "plt.figure(figsize=(20,10))\n",
    "if delta1 == delta2:\n",
    "    plt.plot(nvals, t, label='tv',lw=10,c='r')\n",
    "    plt.plot(nvals, h, label='sq',lw=3,c='b',alpha=0.5)\n",
    "else:\n",
    "    plt.plot(nvals, np.var(hl-2*answer_sq_hell(dim,delta1,delta2), axis=0), ls = '--', label='err_h')\n",
    "    plt.plot(nvals, np.var(tl-answer_tv(dim, delta1, delta2), axis=0), ls = '--', label='err_tv')\n",
    "    plt.plot(nvals, np.mean(hl-2*answer_sq_hell(dim,delta1,delta2), axis=0), ls = '--', label='err_h')\n",
    "    plt.plot(nvals, np.mean(tl-answer_tv(dim, delta1, delta2), axis=0), ls = '--', label='err_tv')\n",
    "    \n",
    "    # plt.plot(nvals, np.abs(hh-answer_tv(dim, delta1, delta2)))\n",
    "    plt.plot(nvals, np.power(np.array(nvals,dtype=float),-1./2), lw=3, ls=':', label='${N}^{-1/(D+1)}$', c='k')\n",
    "    \n",
    "plt.yscale('log')\n",
    "plt.xscale('log')\n",
    "plt.legend(fontsize=20)\n",
    "# plt.ylim(1E-4,1)\n",
    "for k in range(4):\n",
    "    plt.hlines(10**(-k),0,nvals[-1], lw=1,alpha=0.5)"
   ]
  },
  {
   "cell_type": "code",
   "execution_count": null,
   "metadata": {},
   "outputs": [],
   "source": []
  },
  {
   "cell_type": "code",
   "execution_count": 12,
   "metadata": {},
   "outputs": [
    {
     "data": {
      "text/plain": [
       "(<bet.sample.sample_set at 0x7fd7f2ea4da0>, 1280)"
      ]
     },
     "execution_count": 12,
     "metadata": {},
     "output_type": "execute_result"
    }
   ],
   "source": [
    "m.get_right(), r.check_num()"
   ]
  },
  {
   "cell_type": "code",
   "execution_count": 13,
   "metadata": {},
   "outputs": [
    {
     "data": {
      "text/plain": [
       "(array([0.59802187, 0.45980518, 0.36133259, 0.30747701, 0.25778628,\n",
       "        0.19065534]), 0.0)"
      ]
     },
     "execution_count": 13,
     "metadata": {},
     "output_type": "execute_result"
    }
   ],
   "source": [
    "h,answer_sq_hell(dim,delta1,delta2)"
   ]
  },
  {
   "cell_type": "code",
   "execution_count": 14,
   "metadata": {},
   "outputs": [
    {
     "data": {
      "text/plain": [
       "(array([0.64491685, 0.507621  , 0.40373304, 0.32979428, 0.29014545,\n",
       "        0.20300601]), 0.0)"
      ]
     },
     "execution_count": 14,
     "metadata": {},
     "output_type": "execute_result"
    }
   ],
   "source": [
    "t, answer_tv(dim, delta1, delta2)"
   ]
  },
  {
   "cell_type": "code",
   "execution_count": 15,
   "metadata": {},
   "outputs": [
    {
     "data": {
      "text/plain": [
       "array([0.76887686, 0.78583844, 0.85095291, 0.83839204, 0.73958684])"
      ]
     },
     "execution_count": 15,
     "metadata": {},
     "output_type": "execute_result"
    }
   ],
   "source": [
    "h[1:]/h[:-1]"
   ]
  },
  {
   "cell_type": "code",
   "execution_count": 16,
   "metadata": {},
   "outputs": [
    {
     "data": {
      "text/plain": [
       "array([0.78711077, 0.79534346, 0.81686224, 0.8797771 , 0.6996698 ])"
      ]
     },
     "execution_count": 16,
     "metadata": {},
     "output_type": "execute_result"
    }
   ],
   "source": [
    "t[1:]/t[:-1]"
   ]
  },
  {
   "cell_type": "code",
   "execution_count": null,
   "metadata": {},
   "outputs": [],
   "source": []
  }
 ],
 "metadata": {
  "kernelspec": {
   "display_name": "Python 3",
   "language": "python",
   "name": "python3"
  },
  "language_info": {
   "codemirror_mode": {
    "name": "ipython",
    "version": 3
   },
   "file_extension": ".py",
   "mimetype": "text/x-python",
   "name": "python",
   "nbconvert_exporter": "python",
   "pygments_lexer": "ipython3",
   "version": "3.7.3"
  }
 },
 "nbformat": 4,
 "nbformat_minor": 2
}
