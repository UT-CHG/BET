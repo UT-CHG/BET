{
 "cells": [
  {
   "cell_type": "code",
   "execution_count": 1,
   "metadata": {},
   "outputs": [],
   "source": [
    "import bet.postProcess.compareP as cp\n",
    "import bet.sampling.basicSampling as bsam\n",
    "import bet.sample as sample\n",
    "import numpy as np\n",
    "import matplotlib.pyplot as plt\n",
    "import ipywidgets as wd\n",
    "import bet.calculateP.calculateP as calcP\n",
    "import scipy.spatial.distance as ds\n"
   ]
  },
  {
   "cell_type": "code",
   "execution_count": 2,
   "metadata": {},
   "outputs": [],
   "source": [
    "def set_center(num_samples=100,\n",
    "                   dim=2,\n",
    "                   delta=0.1, reg=False):\n",
    "    r\"\"\"\n",
    "    Make unit square domain, create a hyperrectangle with sidelengths\n",
    "    delta centered around `np.array([[0.5]]*dim)\n",
    "    \"\"\"\n",
    "    s_set = sample.sample_set(dim)\n",
    "    s_set.set_domain(np.array([[0, 1]]*dim))\n",
    "    if reg:\n",
    "        s = bsam.regular_sample_set(s_set, num_samples)\n",
    "    else:\n",
    "        s = bsam.random_sample_set('r', s_set, num_samples)\n",
    "    dd = delta/2.0\n",
    "    if dim > 1:\n",
    "        probs = 1*(np.sum(np.logical_and(s._values <= (0.5+dd),\n",
    "                                     s._values >= (0.5-dd)), axis=1) >= dim-1)\n",
    "    else:\n",
    "        probs = 1*(np.logical_and(s._values <= (0.5+dd),\n",
    "                                     s._values >= (0.5-dd)))\n",
    "    s.set_probabilities(probs/np.sum(probs))  # uniform probabilities\n",
    "    s.estimate_volume_mc()\n",
    "    s.global_to_local()\n",
    "    return s\n",
    "\n",
    "def set_zero(num_samples=100,\n",
    "                   dim=2,\n",
    "                   delta=0.1, reg=False):\n",
    "    r\"\"\"\n",
    "    Make unit square domain, create a hyperrectangle with sidelengths\n",
    "    delta centered around `np.array([[0.5]]*dim)\n",
    "    \"\"\"\n",
    "    s_set = sample.sample_set(dim)\n",
    "    s_set.set_domain(np.array([[0, 1]]*dim))\n",
    "    if reg:\n",
    "        s = bsam.regular_sample_set(s_set, num_samples)\n",
    "    else:\n",
    "        s = bsam.random_sample_set('r', s_set, num_samples)    \n",
    "    dd = delta\n",
    "    if dim == 1:\n",
    "        probs = 1*(s._values <= dd)\n",
    "    else:\n",
    "        probs = 1*(np.sum(s._values <= dd, axis=1) >= dim-1)\n",
    "    s.set_probabilities(probs/np.sum(probs))  # uniform probabilities\n",
    "    s.estimate_volume_mc()\n",
    "    s.global_to_local()\n",
    "    return s\n",
    "\n",
    "def set_one(num_samples=100,\n",
    "                   dim=2,\n",
    "                   delta=0.1, reg=False):\n",
    "    r\"\"\"\n",
    "    Make unit square domain, create a hyperrectangle with sidelengths\n",
    "    delta centered around `np.array([[0.5]]*dim)\n",
    "    \"\"\"\n",
    "    s_set = sample.sample_set(dim)\n",
    "    s_set.set_domain(np.array([[0, 1]]*dim))\n",
    "    if reg:\n",
    "        s = bsam.regular_sample_set(s_set, num_samples)\n",
    "    else:\n",
    "        s = bsam.random_sample_set('r', s_set, num_samples)\n",
    "    \n",
    "    dd = delta\n",
    "    if dim == 1:\n",
    "        probs = 1*(s._values >= (1-dd))\n",
    "    else:\n",
    "        probs = 1*(np.sum(s._values >= (1-dd), axis=1) >= dim-1)\n",
    "    s.set_probabilities(probs/np.sum(probs))  # uniform probabilities\n",
    "    s.estimate_volume_mc()\n",
    "    s.global_to_local()\n",
    "    return s\n",
    "\n",
    "def check_densities(s_set, dim=2, delta=0.1, tol=1e-4):\n",
    "    # density values should be reciprocal of delta^dim\n",
    "    s = s_set\n",
    "    dd = delta/2.0\n",
    "    if dim > 1:\n",
    "        marks = 1*(np.sum(np.logical_and(s._values <= (0.5+dd),\n",
    "                                     s._values >= (0.5-dd)), axis=1) >= dim-1)\n",
    "    else:\n",
    "        marks = 1*(np.logical_and(s._values <= (0.5+dd),\n",
    "                                     s._values >= (0.5-dd)))\n",
    "        \n",
    "    true_den_val = 1.0/(delta**dim)  \n",
    "    err = np.mean(np.abs(s_set._den - true_den_val*(marks))) \n",
    "    if err < tol:\n",
    "        return 1\n",
    "    else:\n",
    "        return err\n",
    "    \n",
    "def answer_sq_hell(dim,d1=0.1,d2=0.2):\n",
    "    f1 = d1**(-dim)\n",
    "    f2 = d2**(-dim)\n",
    "    s1, s2 = np.sqrt(f1), np.sqrt(f2)\n",
    "    \n",
    "    single = s2*(d2-d1)\n",
    "    overlap = d1*(s1-s2)\n",
    "    return (single + overlap)/2\n",
    "\n",
    "def answer_tv(dim,d1=0.1,d2=0.2):\n",
    "    f1 = d1**(-dim)\n",
    "    f2 = d2**(-dim)\n",
    "    \n",
    "    single = f2*(d2-d1)\n",
    "    overlap = d1*(f1-f2)\n",
    "    return np.array(single + overlap)/2"
   ]
  },
  {
   "cell_type": "code",
   "execution_count": 59,
   "metadata": {},
   "outputs": [
    {
     "data": {
      "text/plain": [
       "1.4285197368421054"
      ]
     },
     "execution_count": 59,
     "metadata": {},
     "output_type": "execute_result"
    }
   ],
   "source": [
    "dim=1\n",
    "n=1000\n",
    "n1=1000\n",
    "n2=1000\n",
    "delta = 0.3\n",
    "# s = set_unit_probs(n1, dim, delta)\n",
    "# r = set_unit_probs(n2, dim, delta)\n",
    "s = set_zero(n1, dim, delta)\n",
    "r = set_one(n2, dim, delta)\n",
    "i = sample.sample_set(dim)\n",
    "i.set_domain(np.array([[0, 1]]*dim))\n",
    "I = bsam.random_sample_set('r', i, n)\n",
    "i = bsam.regular_sample_set(i, n//10)\n",
    "m = cp.metrization(I,s,r)\n",
    "m.estimate_density()\n",
    "check_densities(s,dim,delta,0.01)"
   ]
  },
  {
   "cell_type": "code",
   "execution_count": 60,
   "metadata": {},
   "outputs": [
    {
     "data": {
      "text/plain": [
       "((1000,), (100, 1))"
      ]
     },
     "execution_count": 60,
     "metadata": {},
     "output_type": "execute_result"
    }
   ],
   "source": [
    "s._den.shape, i._values.shape"
   ]
  },
  {
   "cell_type": "markdown",
   "metadata": {},
   "source": [
    "## Use `calcP.prob_from_sample_set` to compare"
   ]
  },
  {
   "cell_type": "code",
   "execution_count": 61,
   "metadata": {},
   "outputs": [
    {
     "data": {
      "text/plain": [
       "<matplotlib.collections.PathCollection at 0x7f9045c73dd8>"
      ]
     },
     "execution_count": 61,
     "metadata": {},
     "output_type": "execute_result"
    },
    {
     "data": {
      "image/png": "[encoded data removed]",
      "text/plain": [
       "<Figure size 432x288 with 1 Axes>"
      ]
     },
     "metadata": {
      "needs_background": "light"
     },
     "output_type": "display_data"
    }
   ],
   "source": [
    "plt.scatter(I._values, s._den, alpha=1)\n",
    "plt.scatter(I._values, r._den, alpha=0.25,s=10)\n",
    "\n",
    "calcP.prob_from_sample_set(s,I)\n",
    "I._volumes = s._volumes[m.get_io_ptr_left()]\n",
    "I._probabilities /= I._volumes\n",
    "plt.scatter(I._values, I._probabilities, alpha=0.25,s=10)\n",
    "# plt.ylim(0,2)"
   ]
  },
  {
   "cell_type": "code",
   "execution_count": 70,
   "metadata": {},
   "outputs": [
    {
     "data": {
      "text/plain": [
       "(0, 0.01)"
      ]
     },
     "execution_count": 70,
     "metadata": {},
     "output_type": "execute_result"
    },
    {
     "data": {
      "image/png": "[encoded data removed]",
      "text/plain": [
       "<Figure size 432x288 with 1 Axes>"
      ]
     },
     "metadata": {
      "needs_background": "light"
     },
     "output_type": "display_data"
    }
   ],
   "source": [
    "plt.scatter(I._values, s._prob)\n",
    "plt.scatter(I._values, r._prob)\n",
    "plt.scatter(I._values, I._probabilities, alpha=0.5,s=2)\n",
    "plt.ylim(0,0.01)"
   ]
  },
  {
   "cell_type": "code",
   "execution_count": null,
   "metadata": {},
   "outputs": [],
   "source": [
    "I.estimate_volume_mc()\n",
    "cp.set_density(I)\n",
    "plt.scatter(I._values, I._den)"
   ]
  },
  {
   "cell_type": "markdown",
   "metadata": {},
   "source": [
    "Something strange is happening..."
   ]
  },
  {
   "cell_type": "code",
   "execution_count": 6,
   "metadata": {},
   "outputs": [
    {
     "data": {
      "text/plain": [
       "1000.0"
      ]
     },
     "execution_count": 6,
     "metadata": {},
     "output_type": "execute_result"
    }
   ],
   "source": [
    "np.sum(I._probabilities)"
   ]
  },
  {
   "cell_type": "markdown",
   "metadata": {},
   "source": [
    "# Testing Meshes and Sample Sizes"
   ]
  },
  {
   "cell_type": "code",
   "execution_count": 53,
   "metadata": {},
   "outputs": [
    {
     "data": {
      "application/vnd.jupyter.widget-view+json": {
       "model_id": "f3a9da7eb5ea478b85a982ec95b8b627",
       "version_major": 2,
       "version_minor": 0
      },
      "text/plain": [
       "interactive(children=(IntSlider(value=500, continuous_update=False, description='n', max=10000, min=100, step=…"
      ]
     },
     "metadata": {},
     "output_type": "display_data"
    },
    {
     "data": {
      "text/plain": [
       "<function __main__.preview1d_reg(n=100, n_mesh=100, n_ref=1000, delta1=0.1, delta2=0.2, c1='r', c2='r', reg_mesh=False, reg_ref=False, dim=1)>"
      ]
     },
     "execution_count": 53,
     "metadata": {},
     "output_type": "execute_result"
    }
   ],
   "source": [
    "def preview1d_reg(n=100, n_mesh=100, n_ref=1000, delta1=0.1, delta2=0.2,\n",
    "                  c1='r',c2='r',reg_mesh=False, reg_ref=False, dim=1):\n",
    "    if c1 =='r':\n",
    "        s = set_one(n_ref, dim, delta1, reg_ref)\n",
    "    elif c1=='l':\n",
    "        s = set_zero(n_ref, dim, delta1, reg_ref)\n",
    "    else:\n",
    "        s = set_center(n_ref, dim, delta1, reg_ref)\n",
    "        \n",
    "    if c2 =='r':\n",
    "        r = set_one(n_mesh, dim, delta2, reg_mesh)\n",
    "    elif c2 =='l':\n",
    "        r = set_zero(n_mesh, dim, delta2, reg_mesh)\n",
    "    else:\n",
    "        r = set_center(n_mesh, dim, delta2, reg_mesh)\n",
    "    np.random.seed(10)\n",
    "    i = sample.sample_set(dim)\n",
    "    i.set_domain(np.array([[0, 1]]*dim))\n",
    "    I = bsam.random_sample_set('r', i, n)\n",
    "    s = cp.set_density(s)\n",
    "    r = cp.set_density(r)\n",
    "    mm = cp.metrization(I,s,r)\n",
    "    mm.estimate_density()\n",
    "    \n",
    "#     print(check_densities(s,dim,delta1,0.05))\n",
    "#     print(check_densities(r,dim,delta2,0.05))\n",
    "    \n",
    "    if dim == 1:\n",
    "        plt.scatter(I._values, s._den)\n",
    "        plt.scatter(I._values, r._den)\n",
    "        plt.ylim(0,15)\n",
    "        plt.hlines(5,0,1)\n",
    "        plt.hlines(10,0,1)\n",
    "    print(mm.distance(),mm.distance('sqhell'))\n",
    "#     print(answer_tv(dim,delta1,delta2),\n",
    "#           answer_sq_hell(dim,delta1,delta2))\n",
    "#     print(0.5*np.sum(np.abs(mm._den_left - mm._den_right))/I.check_num())\n",
    "wd.interact(preview1d_reg, \n",
    "            n=wd.IntSlider(500,100,10000,step=100, continuous_update=False),\n",
    "            n_ref=wd.IntSlider(500,100,10000,step=100, continuous_update=False),\n",
    "            n_mesh=wd.IntSlider(500,100,10000,step=100, continuous_update=False),\n",
    "            delta1=wd.FloatSlider(0.1,min=0.1,max=.75,step=0.05),\n",
    "            delta2=wd.FloatSlider(0.1,min=0.1,max=.75,step=0.05),\n",
    "            c1=wd.Dropdown(options=['c','r','l']), c2=wd.Dropdown(options=['c','r','l']),\n",
    "            reg_ref=wd.Checkbox(description=\"Regular Ref\"),\n",
    "            reg_mesh=wd.Checkbox(description=\"Regular Mesh\"),\n",
    "            dim=wd.IntSlider(1,1,5)\n",
    "           )"
   ]
  },
  {
   "cell_type": "markdown",
   "metadata": {},
   "source": [
    "# Convergence Study"
   ]
  },
  {
   "cell_type": "code",
   "execution_count": 143,
   "metadata": {},
   "outputs": [
    {
     "data": {
      "text/plain": [
       "32"
      ]
     },
     "execution_count": 143,
     "metadata": {},
     "output_type": "execute_result"
    }
   ],
   "source": [
    "nvals = [2**N for N in range(5,12)]\n"
   ]
  },
  {
   "cell_type": "code",
   "execution_count": 129,
   "metadata": {},
   "outputs": [
    {
     "name": "stderr",
     "output_type": "stream",
     "text": [
      "/opt/conda/lib/python3.7/site-packages/ipykernel_launcher.py:21: RuntimeWarning: invalid value encountered in true_divide\n"
     ]
    },
    {
     "ename": "ValueError",
     "evalue": "array must not contain infs or NaNs",
     "output_type": "error",
     "traceback": [
      "\u001b[0;31m---------------------------------------------------------------------------\u001b[0m",
      "\u001b[0;31mValueError\u001b[0m                                Traceback (most recent call last)",
      "\u001b[0;32m<ipython-input-129-2ad217477b58>\u001b[0m in \u001b[0;36m<module>\u001b[0;34m\u001b[0m\n\u001b[1;32m     36\u001b[0m         \u001b[0mm\u001b[0m\u001b[0;34m.\u001b[0m\u001b[0mestimate_density\u001b[0m\u001b[0;34m(\u001b[0m\u001b[0;34m)\u001b[0m\u001b[0;34m\u001b[0m\u001b[0;34m\u001b[0m\u001b[0m\n\u001b[1;32m     37\u001b[0m         \u001b[0mhh\u001b[0m\u001b[0;34m.\u001b[0m\u001b[0mappend\u001b[0m\u001b[0;34m(\u001b[0m\u001b[0mm\u001b[0m\u001b[0;34m.\u001b[0m\u001b[0mdistance\u001b[0m\u001b[0;34m(\u001b[0m\u001b[0;34m'sqhell'\u001b[0m\u001b[0;34m)\u001b[0m\u001b[0;34m)\u001b[0m\u001b[0;34m\u001b[0m\u001b[0;34m\u001b[0m\u001b[0m\n\u001b[0;32m---> 38\u001b[0;31m         \u001b[0mtv\u001b[0m\u001b[0;34m.\u001b[0m\u001b[0mappend\u001b[0m\u001b[0;34m(\u001b[0m\u001b[0mm\u001b[0m\u001b[0;34m.\u001b[0m\u001b[0mdistance\u001b[0m\u001b[0;34m(\u001b[0m\u001b[0;34m'tv'\u001b[0m\u001b[0;34m)\u001b[0m\u001b[0;34m)\u001b[0m\u001b[0;34m\u001b[0m\u001b[0;34m\u001b[0m\u001b[0m\n\u001b[0m\u001b[1;32m     39\u001b[0m     \u001b[0mhl\u001b[0m\u001b[0;34m[\u001b[0m\u001b[0mt\u001b[0m\u001b[0;34m,\u001b[0m\u001b[0;34m:\u001b[0m\u001b[0;34m]\u001b[0m \u001b[0;34m=\u001b[0m \u001b[0mnp\u001b[0m\u001b[0;34m.\u001b[0m\u001b[0marray\u001b[0m\u001b[0;34m(\u001b[0m\u001b[0mhh\u001b[0m\u001b[0;34m)\u001b[0m \u001b[0;31m# averaging, cumulative sum.\u001b[0m\u001b[0;34m\u001b[0m\u001b[0;34m\u001b[0m\u001b[0m\n\u001b[1;32m     40\u001b[0m     \u001b[0mtl\u001b[0m\u001b[0;34m[\u001b[0m\u001b[0mt\u001b[0m\u001b[0;34m,\u001b[0m\u001b[0;34m:\u001b[0m\u001b[0;34m]\u001b[0m \u001b[0;34m=\u001b[0m \u001b[0mnp\u001b[0m\u001b[0;34m.\u001b[0m\u001b[0marray\u001b[0m\u001b[0;34m(\u001b[0m\u001b[0mtv\u001b[0m\u001b[0;34m)\u001b[0m\u001b[0;34m\u001b[0m\u001b[0;34m\u001b[0m\u001b[0m\n",
      "\u001b[0;32m/opt/conda/lib/python3.7/site-packages/bet-2.2.0-py3.7.egg/bet/postProcess/compareP.py\u001b[0m in \u001b[0;36mdistance\u001b[0;34m(self, metric, **kwargs)\u001b[0m\n\u001b[1;32m    738\u001b[0m         \u001b[0mleft_den\u001b[0m\u001b[0;34m,\u001b[0m \u001b[0mright_den\u001b[0m \u001b[0;34m=\u001b[0m \u001b[0mself\u001b[0m\u001b[0;34m.\u001b[0m\u001b[0mget_left_density\u001b[0m\u001b[0;34m(\u001b[0m\u001b[0;34m)\u001b[0m\u001b[0;34m,\u001b[0m \u001b[0mself\u001b[0m\u001b[0;34m.\u001b[0m\u001b[0mget_right_density\u001b[0m\u001b[0;34m(\u001b[0m\u001b[0;34m)\u001b[0m\u001b[0;34m\u001b[0m\u001b[0;34m\u001b[0m\u001b[0m\n\u001b[1;32m    739\u001b[0m         \u001b[0;32mif\u001b[0m \u001b[0mmetric\u001b[0m \u001b[0;32min\u001b[0m \u001b[0;34m[\u001b[0m\u001b[0;34m'tv'\u001b[0m\u001b[0;34m,\u001b[0m \u001b[0;34m'totvar'\u001b[0m\u001b[0;34m,\u001b[0m \u001b[0;34m'total variation'\u001b[0m\u001b[0;34m,\u001b[0m \u001b[0;34m'total-variation'\u001b[0m\u001b[0;34m,\u001b[0m \u001b[0;34m'1'\u001b[0m\u001b[0;34m]\u001b[0m\u001b[0;34m:\u001b[0m\u001b[0;34m\u001b[0m\u001b[0;34m\u001b[0m\u001b[0m\n\u001b[0;32m--> 740\u001b[0;31m             \u001b[0mdist\u001b[0m \u001b[0;34m=\u001b[0m \u001b[0mds\u001b[0m\u001b[0;34m.\u001b[0m\u001b[0mminkowski\u001b[0m\u001b[0;34m(\u001b[0m\u001b[0mleft_den\u001b[0m\u001b[0;34m,\u001b[0m \u001b[0mright_den\u001b[0m\u001b[0;34m,\u001b[0m \u001b[0;36m1\u001b[0m\u001b[0;34m,\u001b[0m \u001b[0mw\u001b[0m\u001b[0;34m=\u001b[0m\u001b[0;36m0.5\u001b[0m\u001b[0;34m,\u001b[0m \u001b[0;34m**\u001b[0m\u001b[0mkwargs\u001b[0m\u001b[0;34m)\u001b[0m\u001b[0;34m\u001b[0m\u001b[0;34m\u001b[0m\u001b[0m\n\u001b[0m\u001b[1;32m    741\u001b[0m         \u001b[0;32melif\u001b[0m \u001b[0mmetric\u001b[0m \u001b[0;32min\u001b[0m \u001b[0;34m[\u001b[0m\u001b[0;34m'mink'\u001b[0m\u001b[0;34m,\u001b[0m \u001b[0;34m'minkowski'\u001b[0m\u001b[0;34m]\u001b[0m\u001b[0;34m:\u001b[0m\u001b[0;34m\u001b[0m\u001b[0;34m\u001b[0m\u001b[0m\n\u001b[1;32m    742\u001b[0m             \u001b[0mdist\u001b[0m \u001b[0;34m=\u001b[0m \u001b[0mds\u001b[0m\u001b[0;34m.\u001b[0m\u001b[0mminkowski\u001b[0m\u001b[0;34m(\u001b[0m\u001b[0mleft_den\u001b[0m\u001b[0;34m,\u001b[0m \u001b[0mright_den\u001b[0m\u001b[0;34m,\u001b[0m \u001b[0;34m**\u001b[0m\u001b[0mkwargs\u001b[0m\u001b[0;34m)\u001b[0m\u001b[0;34m\u001b[0m\u001b[0;34m\u001b[0m\u001b[0m\n",
      "\u001b[0;32m/opt/conda/lib/python3.7/site-packages/scipy/spatial/distance.py\u001b[0m in \u001b[0;36mminkowski\u001b[0;34m(u, v, p, w)\u001b[0m\n\u001b[1;32m    503\u001b[0m             \u001b[0mroot_w\u001b[0m \u001b[0;34m=\u001b[0m \u001b[0mnp\u001b[0m\u001b[0;34m.\u001b[0m\u001b[0mpower\u001b[0m\u001b[0;34m(\u001b[0m\u001b[0mw\u001b[0m\u001b[0;34m,\u001b[0m \u001b[0;36m1\u001b[0m\u001b[0;34m/\u001b[0m\u001b[0mp\u001b[0m\u001b[0;34m)\u001b[0m\u001b[0;34m\u001b[0m\u001b[0;34m\u001b[0m\u001b[0m\n\u001b[1;32m    504\u001b[0m         \u001b[0mu_v\u001b[0m \u001b[0;34m=\u001b[0m \u001b[0mroot_w\u001b[0m \u001b[0;34m*\u001b[0m \u001b[0mu_v\u001b[0m\u001b[0;34m\u001b[0m\u001b[0;34m\u001b[0m\u001b[0m\n\u001b[0;32m--> 505\u001b[0;31m     \u001b[0mdist\u001b[0m \u001b[0;34m=\u001b[0m \u001b[0mnorm\u001b[0m\u001b[0;34m(\u001b[0m\u001b[0mu_v\u001b[0m\u001b[0;34m,\u001b[0m \u001b[0mord\u001b[0m\u001b[0;34m=\u001b[0m\u001b[0mp\u001b[0m\u001b[0;34m)\u001b[0m\u001b[0;34m\u001b[0m\u001b[0;34m\u001b[0m\u001b[0m\n\u001b[0m\u001b[1;32m    506\u001b[0m     \u001b[0;32mreturn\u001b[0m \u001b[0mdist\u001b[0m\u001b[0;34m\u001b[0m\u001b[0;34m\u001b[0m\u001b[0m\n\u001b[1;32m    507\u001b[0m \u001b[0;34m\u001b[0m\u001b[0m\n",
      "\u001b[0;32m/opt/conda/lib/python3.7/site-packages/scipy/linalg/misc.py\u001b[0m in \u001b[0;36mnorm\u001b[0;34m(a, ord, axis, keepdims)\u001b[0m\n\u001b[1;32m    135\u001b[0m     \"\"\"\n\u001b[1;32m    136\u001b[0m     \u001b[0;31m# Differs from numpy only in non-finite handling and the use of blas.\u001b[0m\u001b[0;34m\u001b[0m\u001b[0;34m\u001b[0m\u001b[0;34m\u001b[0m\u001b[0m\n\u001b[0;32m--> 137\u001b[0;31m     \u001b[0ma\u001b[0m \u001b[0;34m=\u001b[0m \u001b[0mnp\u001b[0m\u001b[0;34m.\u001b[0m\u001b[0masarray_chkfinite\u001b[0m\u001b[0;34m(\u001b[0m\u001b[0ma\u001b[0m\u001b[0;34m)\u001b[0m\u001b[0;34m\u001b[0m\u001b[0;34m\u001b[0m\u001b[0m\n\u001b[0m\u001b[1;32m    138\u001b[0m \u001b[0;34m\u001b[0m\u001b[0m\n\u001b[1;32m    139\u001b[0m     \u001b[0;31m# Only use optimized norms if axis and keepdims are not specified.\u001b[0m\u001b[0;34m\u001b[0m\u001b[0;34m\u001b[0m\u001b[0;34m\u001b[0m\u001b[0m\n",
      "\u001b[0;32m/opt/conda/lib/python3.7/site-packages/numpy/lib/function_base.py\u001b[0m in \u001b[0;36masarray_chkfinite\u001b[0;34m(a, dtype, order)\u001b[0m\n\u001b[1;32m    459\u001b[0m     \u001b[0;32mif\u001b[0m \u001b[0ma\u001b[0m\u001b[0;34m.\u001b[0m\u001b[0mdtype\u001b[0m\u001b[0;34m.\u001b[0m\u001b[0mchar\u001b[0m \u001b[0;32min\u001b[0m \u001b[0mtypecodes\u001b[0m\u001b[0;34m[\u001b[0m\u001b[0;34m'AllFloat'\u001b[0m\u001b[0;34m]\u001b[0m \u001b[0;32mand\u001b[0m \u001b[0;32mnot\u001b[0m \u001b[0mnp\u001b[0m\u001b[0;34m.\u001b[0m\u001b[0misfinite\u001b[0m\u001b[0;34m(\u001b[0m\u001b[0ma\u001b[0m\u001b[0;34m)\u001b[0m\u001b[0;34m.\u001b[0m\u001b[0mall\u001b[0m\u001b[0;34m(\u001b[0m\u001b[0;34m)\u001b[0m\u001b[0;34m:\u001b[0m\u001b[0;34m\u001b[0m\u001b[0;34m\u001b[0m\u001b[0m\n\u001b[1;32m    460\u001b[0m         raise ValueError(\n\u001b[0;32m--> 461\u001b[0;31m             \"array must not contain infs or NaNs\")\n\u001b[0m\u001b[1;32m    462\u001b[0m     \u001b[0;32mreturn\u001b[0m \u001b[0ma\u001b[0m\u001b[0;34m\u001b[0m\u001b[0;34m\u001b[0m\u001b[0m\n\u001b[1;32m    463\u001b[0m \u001b[0;34m\u001b[0m\u001b[0m\n",
      "\u001b[0;31mValueError\u001b[0m: array must not contain infs or NaNs"
     ]
    }
   ],
   "source": [
    "n_l, n_r = 500, 1000\n",
    "n = 5000\n",
    "dim = 3\n",
    "delta1, delta2 = 0.2, 0.2 # order so d1 < d2\n",
    "num_trials = 10\n",
    "nvals = [2**N for N in range(5,12)]\n",
    "hl = np.zeros((num_trials, len(nvals))) # data storage\n",
    "tl = np.zeros((num_trials, len(nvals)))\n",
    "\n",
    "i = sample.sample_set(dim)\n",
    "i.set_domain(np.array([[0, 1]]*dim))\n",
    "I = bsam.random_sample_set('r', i, n)\n",
    "# I = bsam.regular_sample_set(i, 10)\n",
    "\n",
    "s = set_center(n_l, dim, delta1, reg=True)\n",
    "r = set_center(n_r, dim, delta2, reg=False)\n",
    "m = cp.metrization(I,s,r)\n",
    "m.set_io_ptr_left()\n",
    "m.set_io_ptr_right()\n",
    "\n",
    "for t in range(num_trials):\n",
    "    hh = [] # temporary vectors\n",
    "    tv = []\n",
    "    #     np.random.seed(t)\n",
    "    for n in nvals:\n",
    "        # effect of MC integration error\n",
    "#         m.set_int(bsam.random_sample_set('r', i, n))\n",
    "#         m.set_io_ptr_left()\n",
    "#         m.set_io_ptr_right()\n",
    "        \n",
    "        # random sampling error relative to reference solution.\n",
    "        r = set_center(n, dim, delta2, reg=False)\n",
    "        m.set_right(r)\n",
    "        m.set_io_ptr_right()\n",
    "        \n",
    "        m.estimate_density()\n",
    "        hh.append(m.distance('sqhell'))\n",
    "        tv.append(m.distance('tv'))\n",
    "    hl[t,:] = np.array(hh) # averaging, cumulative sum.\n",
    "    tl[t,:] = np.array(tv)\n",
    "h = np.mean(hl, axis=0)\n",
    "t = np.mean(tl, axis=0)"
   ]
  },
  {
   "cell_type": "code",
   "execution_count": null,
   "metadata": {},
   "outputs": [],
   "source": [
    "plt.figure(figsize=(20,10))\n",
    "plt.plot(nvals, np.abs(h-answer_sq_hell(dim,delta1,delta2)), ls = '--', label='err_h')\n",
    "plt.plot(nvals, np.abs(t-answer_tv(dim, delta1, delta2)), ls = '--', label='err_tv')\n",
    "# plt.plot(nvals, np.abs(hh-answer_tv(dim, delta1, delta2)))\n",
    "plt.plot(nvals, h, label='sq',lw=5,c='b')\n",
    "plt.plot(nvals, t, label='tv',lw=5,c='r')\n",
    "plt.yscale('log')\n",
    "plt.xscale('log')\n",
    "plt.plot(nvals, np.power(np.array(nvals,dtype=float),-1./(dim+1)), lw=3, ls=':', label='${N}^{-1/(D+1)}$', c='k')\n",
    "plt.legend(fontsize=20)\n",
    "plt.ylim(1E-4,1)\n",
    "for k in range(4):\n",
    "    plt.hlines(10**(-k),0,nvals[-1], lw=1,alpha=0.5)"
   ]
  },
  {
   "cell_type": "code",
   "execution_count": 138,
   "metadata": {},
   "outputs": [
    {
     "data": {
      "text/plain": [
       "(<bet.sample.sample_set at 0x7f8ccae16898>, 16)"
      ]
     },
     "execution_count": 138,
     "metadata": {},
     "output_type": "execute_result"
    }
   ],
   "source": [
    "m.get_right(), r.check_num()"
   ]
  },
  {
   "cell_type": "code",
   "execution_count": 130,
   "metadata": {},
   "outputs": [
    {
     "data": {
      "text/plain": [
       "(array([0.36308348, 0.26697734, 0.19659265, 0.14050746, 0.09797641,\n",
       "        0.06597186, 0.04569658, 0.03435688]), 0.0)"
      ]
     },
     "execution_count": 130,
     "metadata": {},
     "output_type": "execute_result"
    }
   ],
   "source": [
    "h,answer_sq_hell(dim,delta1,delta2)"
   ]
  },
  {
   "cell_type": "code",
   "execution_count": 131,
   "metadata": {},
   "outputs": [
    {
     "data": {
      "text/plain": [
       "(2, 0.0)"
      ]
     },
     "execution_count": 131,
     "metadata": {},
     "output_type": "execute_result"
    }
   ],
   "source": [
    "t, answer_tv(dim, delta1, delta2)"
   ]
  },
  {
   "cell_type": "code",
   "execution_count": 97,
   "metadata": {},
   "outputs": [
    {
     "data": {
      "text/plain": [
       "array([0.62831429, 0.36895166, 0.70684168, 0.62181262, 0.32446369,\n",
       "       0.56297442, 0.36978966, 0.61106801, 0.93264599])"
      ]
     },
     "execution_count": 97,
     "metadata": {},
     "output_type": "execute_result"
    }
   ],
   "source": [
    "h[1:]/h[:-1]"
   ]
  },
  {
   "cell_type": "code",
   "execution_count": 98,
   "metadata": {},
   "outputs": [
    {
     "data": {
      "text/plain": [
       "array([0.55270733, 0.67573863, 0.66422295, 0.97201635, 0.44512066,\n",
       "       0.79589039, 0.5572164 , 0.55382523, 1.32466599])"
      ]
     },
     "execution_count": 98,
     "metadata": {},
     "output_type": "execute_result"
    }
   ],
   "source": [
    "t[1:]/t[:-1]"
   ]
  },
  {
   "cell_type": "code",
   "execution_count": null,
   "metadata": {},
   "outputs": [],
   "source": []
  }
 ],
 "metadata": {
  "kernelspec": {
   "display_name": "Python 3",
   "language": "python",
   "name": "python3"
  },
  "language_info": {
   "codemirror_mode": {
    "name": "ipython",
    "version": 3
   },
   "file_extension": ".py",
   "mimetype": "text/x-python",
   "name": "python",
   "nbconvert_exporter": "python",
   "pygments_lexer": "ipython3",
   "version": "3.7.3"
  }
 },
 "nbformat": 4,
 "nbformat_minor": 2
}
