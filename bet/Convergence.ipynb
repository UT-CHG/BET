{
 "cells": [
  {
   "cell_type": "markdown",
   "metadata": {},
   "source": [
    "# <center> Studying Convergence"
   ]
  },
  {
   "cell_type": "code",
   "execution_count": 1,
   "metadata": {},
   "outputs": [],
   "source": [
    "import bet.postProcess.compareP as cp\n",
    "import bet.sampling.basicSampling as bsam\n",
    "import bet.sample as sample\n",
    "import numpy as np\n",
    "import matplotlib.pyplot as plt\n",
    "import ipywidgets as wd\n",
    "import bet.calculateP.calculateP as calcP\n",
    "import scipy.spatial.distance as ds\n"
   ]
  },
  {
   "cell_type": "code",
   "execution_count": 2,
   "metadata": {},
   "outputs": [],
   "source": [
    "def set_center(num_samples=100,\n",
    "                   dim=2,\n",
    "                   delta=0.1, reg=False):\n",
    "    r\"\"\"\n",
    "    Make unit square domain, create a hyperrectangle with sidelengths\n",
    "    delta centered around `np.array([[0.5]]*dim)\n",
    "    \"\"\"\n",
    "    s_set = sample.sample_set(dim)\n",
    "    s_set.set_domain(np.array([[0, 1]]*dim))\n",
    "    if reg:\n",
    "        s = bsam.regular_sample_set(s_set, num_samples)\n",
    "    else:\n",
    "        s = bsam.random_sample_set('r', s_set, num_samples)\n",
    "    dd = delta/2.0\n",
    "    if dim > 1:\n",
    "        probs = 1*(np.sum(np.logical_and(s._values <= (0.5+dd),\n",
    "                                     s._values >= (0.5-dd)), axis=1) >= dim-1)\n",
    "    else:\n",
    "        probs = 1*(np.logical_and(s._values <= (0.5+dd),\n",
    "                                     s._values >= (0.5-dd)))\n",
    "    s.set_probabilities(probs/np.sum(probs))  # uniform probabilities\n",
    "    s.estimate_volume_mc()\n",
    "    s.global_to_local()\n",
    "    return s\n",
    "\n",
    "def set_zero(num_samples=100,\n",
    "                   dim=2,\n",
    "                   delta=0.1, reg=False):\n",
    "    r\"\"\"\n",
    "    Make unit square domain, create a hyperrectangle with sidelengths\n",
    "    delta centered around `np.array([[0.5]]*dim)\n",
    "    \"\"\"\n",
    "    s_set = sample.sample_set(dim)\n",
    "    s_set.set_domain(np.array([[0, 1]]*dim))\n",
    "    if reg:\n",
    "        s = bsam.regular_sample_set(s_set, num_samples)\n",
    "    else:\n",
    "        s = bsam.random_sample_set('r', s_set, num_samples)    \n",
    "    dd = delta\n",
    "    if dim == 1:\n",
    "        probs = 1*(s._values <= dd)\n",
    "    else:\n",
    "        probs = 1*(np.sum(s._values <= dd, axis=1) >= dim-1)\n",
    "    s.set_probabilities(probs/np.sum(probs))  # uniform probabilities\n",
    "    s.estimate_volume_mc()\n",
    "    s.global_to_local()\n",
    "    return s\n",
    "\n",
    "def set_one(num_samples=100,\n",
    "                   dim=2,\n",
    "                   delta=0.1, reg=False):\n",
    "    r\"\"\"\n",
    "    Make unit square domain, create a hyperrectangle with sidelengths\n",
    "    delta centered around `np.array([[0.5]]*dim)\n",
    "    \"\"\"\n",
    "    s_set = sample.sample_set(dim)\n",
    "    s_set.set_domain(np.array([[0, 1]]*dim))\n",
    "    if reg:\n",
    "        s = bsam.regular_sample_set(s_set, num_samples)\n",
    "    else:\n",
    "        s = bsam.random_sample_set('r', s_set, num_samples)\n",
    "    \n",
    "    dd = delta\n",
    "    if dim == 1:\n",
    "        probs = 1*(s._values >= (1-dd))\n",
    "    else:\n",
    "        probs = 1*(np.sum(s._values >= (1-dd), axis=1) >= dim-1)\n",
    "    s.set_probabilities(probs/np.sum(probs))  # uniform probabilities\n",
    "    s.estimate_volume_mc()\n",
    "    s.global_to_local()\n",
    "    return s\n",
    "\n",
    "    \n",
    "def answer_sq_hell(dim,d1=0.1,d2=0.2):\n",
    "    f1 = d1**(-dim)\n",
    "    f2 = d2**(-dim)\n",
    "    s1, s2 = np.sqrt(f1), np.sqrt(f2)\n",
    "    \n",
    "    single = s2*(d2-d1)\n",
    "    overlap = d1*(s1-s2)\n",
    "    return (single + overlap)/2\n",
    "\n",
    "def answer_tv(dim,d1=0.1,d2=0.2):\n",
    "    f1 = d1**(-dim)\n",
    "    f2 = d2**(-dim)\n",
    "    \n",
    "    single = f2*(d2-d1)\n",
    "    overlap = d1*(f1-f2)\n",
    "    return np.array(single + overlap)/2"
   ]
  },
  {
   "cell_type": "markdown",
   "metadata": {},
   "source": [
    "# Testing Meshes and Sample Sizes"
   ]
  },
  {
   "cell_type": "code",
   "execution_count": 3,
   "metadata": {},
   "outputs": [
    {
     "data": {
      "application/vnd.jupyter.widget-view+json": {
       "model_id": "8b21d653d8b24487865074f74debdf71",
       "version_major": 2,
       "version_minor": 0
      },
      "text/plain": [
       "interactive(children=(IntSlider(value=500, continuous_update=False, description='MC', max=10000, min=100, step…"
      ]
     },
     "metadata": {},
     "output_type": "display_data"
    },
    {
     "data": {
      "text/plain": [
       "<function __main__.preview1d(MC=100, left_N=10, right_N=10, L_delta=0.1, R_delta=0.2, left='r', right='r', L_reg=False, R_reg=False, dim=1)>"
      ]
     },
     "execution_count": 3,
     "metadata": {},
     "output_type": "execute_result"
    }
   ],
   "source": [
    "def preview1d(MC=100, left_N=10, right_N=10,\n",
    "                  L_delta=0.1, R_delta=0.2,\n",
    "                  left='r',right='r',\n",
    "                  L_reg=False, R_reg=False, dim=1):\n",
    "    if left =='r':\n",
    "        L = set_one(left_N, dim, L_delta, L_reg)\n",
    "    elif left=='l':\n",
    "        L = set_zero(left_N, dim, L_delta, L_reg)\n",
    "    else:\n",
    "        L = set_center(left_N, dim, L_delta, L_reg)\n",
    "        \n",
    "    if right =='r':\n",
    "        R = set_one(right_N, dim, R_delta, R_reg)\n",
    "    elif right =='l':\n",
    "        R = set_zero(right_N, dim, R_delta, R_reg)\n",
    "    else:\n",
    "        R = set_center(right_N, dim, R_delta, R_reg)\n",
    "    \n",
    "    np.random.seed(10)\n",
    "    i = sample.sample_set(dim)\n",
    "    i.set_domain(np.array([[0, 1]]*dim))\n",
    "    I = bsam.random_sample_set('r', i, MC)\n",
    "    \n",
    "    L = cp.set_density(L)\n",
    "    R = cp.set_density(R)\n",
    "    mm = cp.metrization(I,L,R)\n",
    "    mm.estimate_density()\n",
    "    \n",
    "#     print(check_densities(s,dim,delta1,0.05))\n",
    "#     print(check_densities(r,dim,delta2,0.05))\n",
    "    \n",
    "    if dim == 1:\n",
    "        plt.scatter(I._values, L._den)\n",
    "        plt.scatter(I._values, R._den)\n",
    "        plt.ylim(0,15)\n",
    "        plt.hlines(5,0,1)\n",
    "        plt.hlines(10,0,1)\n",
    "    print(mm.distance(),mm.distance('sqhell'))\n",
    "#     print(answer_tv(dim,delta1,delta2),\n",
    "#           answer_sq_hell(dim,delta1,delta2))\n",
    "#     print(0.5*np.sum(np.abs(mm._den_left - mm._den_right))/I.check_num())\n",
    "wd.interact(preview1d, \n",
    "            MC=wd.IntSlider(500,100,10000,step=100, continuous_update=False),\n",
    "            left_N=wd.IntSlider(500,100,10000,step=100, continuous_update=False),\n",
    "            right_N=wd.IntSlider(500,100,10000,step=100, continuous_update=False),\n",
    "            L_delta=wd.FloatSlider(0.1,min=0.1,max=.75,step=0.05),\n",
    "            R_delta=wd.FloatSlider(0.1,min=0.1,max=.75,step=0.05),\n",
    "            left=wd.Dropdown(options=['c','r','l']), right=wd.Dropdown(options=['c','r','l']),\n",
    "            L_reg=wd.Checkbox(description=\"Regular Ref\"),\n",
    "            R_reg=wd.Checkbox(description=\"Regular Mesh\"),\n",
    "            dim=wd.IntSlider(1,1,5)\n",
    "           )"
   ]
  },
  {
   "cell_type": "markdown",
   "metadata": {},
   "source": [
    "# Convergence Study"
   ]
  },
  {
   "cell_type": "code",
   "execution_count": null,
   "metadata": {},
   "outputs": [],
   "source": [
    "n_l, n_r = 20, 1000\n",
    "n = 1000\n",
    "\n",
    "dim = 1\n",
    "delta_l, delta_r = 0.4, 0.5 # order so d1 < d2\n",
    "num_trials = 10\n",
    "\n",
    "nvals = [10*2**N for N in range(2,9)]\n",
    "hl = np.zeros((num_trials, len(nvals))) # data storage\n",
    "tl = np.zeros((num_trials, len(nvals)))\n",
    "\n",
    "i = sample.sample_set(dim)\n",
    "i.set_domain(np.array([[0, 1]]*dim))\n",
    "I = bsam.random_sample_set('r', i, n)\n",
    "\n",
    "L = set_center(n_l, dim, delta1, reg=True)\n",
    "R = set_center(n_r, dim, delta2, reg=False)\n",
    "m = cp.metrization(I,L,R)\n",
    "m.set_io_ptr_left()\n",
    "m.set_io_ptr_right()\n",
    "\n",
    "for t in range(num_trials):\n",
    "    hh = [] # temporary vectors\n",
    "    tv = []\n",
    "    #     np.random.seed(t)\n",
    "    for n in nvals:\n",
    "        # effect of MC integration error\n",
    "#         m.set_int(bsam.random_sample_set('r', i, n))\n",
    "#         m.set_io_ptr_left()\n",
    "#         m.set_io_ptr_right()\n",
    "        \n",
    "        # random sampling error relative to reference solution.\n",
    "        r = set_center(n, dim, delta_r, reg=False)\n",
    "        m.set_right(r)\n",
    "        m.set_io_ptr_right()\n",
    "        \n",
    "        m.estimate_density()\n",
    "        hh.append(m.distance('sqhell'))\n",
    "        tv.append(m.distance('tv'))\n",
    "        \n",
    "    hl[t,:] = np.array(hh) # averaging, cumulative sum.\n",
    "    tl[t,:] = np.array(tv)\n",
    "h = np.mean(hl, axis=0)\n",
    "t = np.mean(tl, axis=0)"
   ]
  },
  {
   "cell_type": "code",
   "execution_count": null,
   "metadata": {},
   "outputs": [],
   "source": [
    "np.var(hl-2*answer_sq_hell(dim,delta1,delta2), axis=0)"
   ]
  },
  {
   "cell_type": "code",
   "execution_count": null,
   "metadata": {},
   "outputs": [],
   "source": [
    "plt.figure(figsize=(20,10))\n",
    "if delta1 == delta2:\n",
    "    plt.plot(nvals, t, label='tv',lw=10,c='r')\n",
    "    plt.plot(nvals, h, label='sq',lw=3,c='b',alpha=0.5)\n",
    "else:\n",
    "    plt.plot(nvals, np.var(hl-2*answer_sq_hell(dim,delta1,delta2), axis=0), ls = '--', label='err_h')\n",
    "    plt.plot(nvals, np.var(tl-answer_tv(dim, delta1, delta2), axis=0), ls = '--', label='err_tv')\n",
    "    plt.plot(nvals, np.mean(hl-2*answer_sq_hell(dim,delta1,delta2), axis=0), ls = '--', label='err_h')\n",
    "    plt.plot(nvals, np.mean(tl-answer_tv(dim, delta1, delta2), axis=0), ls = '--', label='err_tv')\n",
    "    \n",
    "    # plt.plot(nvals, np.abs(hh-answer_tv(dim, delta1, delta2)))\n",
    "    plt.plot(nvals, np.power(np.array(nvals,dtype=float),-1./2), lw=3, ls=':', label='${N}^{-1/(D+1)}$', c='k')\n",
    "    \n",
    "plt.yscale('log')\n",
    "plt.xscale('log')\n",
    "plt.legend(fontsize=20)\n",
    "# plt.ylim(1E-4,1)\n",
    "for k in range(4):\n",
    "    plt.hlines(10**(-k),0,nvals[-1], lw=1,alpha=0.5)"
   ]
  },
  {
   "cell_type": "code",
   "execution_count": null,
   "metadata": {},
   "outputs": [],
   "source": []
  },
  {
   "cell_type": "code",
   "execution_count": null,
   "metadata": {},
   "outputs": [],
   "source": [
    "m.get_right(), r.check_num()"
   ]
  },
  {
   "cell_type": "code",
   "execution_count": null,
   "metadata": {},
   "outputs": [],
   "source": [
    "h,answer_sq_hell(dim,delta1,delta2)"
   ]
  },
  {
   "cell_type": "code",
   "execution_count": null,
   "metadata": {},
   "outputs": [],
   "source": [
    "t, answer_tv(dim, delta1, delta2)"
   ]
  },
  {
   "cell_type": "code",
   "execution_count": null,
   "metadata": {},
   "outputs": [],
   "source": [
    "h[1:]/h[:-1]"
   ]
  },
  {
   "cell_type": "code",
   "execution_count": null,
   "metadata": {},
   "outputs": [],
   "source": [
    "t[1:]/t[:-1]"
   ]
  },
  {
   "cell_type": "code",
   "execution_count": null,
   "metadata": {},
   "outputs": [],
   "source": []
  }
 ],
 "metadata": {
  "kernelspec": {
   "display_name": "Python 3",
   "language": "python",
   "name": "python3"
  },
  "language_info": {
   "codemirror_mode": {
    "name": "ipython",
    "version": 3
   },
   "file_extension": ".py",
   "mimetype": "text/x-python",
   "name": "python",
   "nbconvert_exporter": "python",
   "pygments_lexer": "ipython3",
   "version": "3.7.3"
  }
 },
 "nbformat": 4,
 "nbformat_minor": 2
}
