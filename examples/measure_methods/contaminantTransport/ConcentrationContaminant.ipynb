{
 "cells": [
  {
   "cell_type": "markdown",
   "metadata": {},
   "source": [
    "# Example: Concentration of Contaminant in Wells Based on Transport Parameters\n",
    "([From BET Documentation](http://ut-chg.github.io/BET/examples/example_rst_files/contaminantTransport.html#contaminanttransport))"
   ]
  },
  {
   "cell_type": "markdown",
   "metadata": {},
   "source": [
    "We will walk through the following example. This example takes uniformly distributed samples of parameters and output data from a simple groundwater contaminant transport model, and calculates solutions to the stochastic inverse problem. The parameter domain is 5D, where the uncertain parameters are the x and y locations of the source, the horizontal dispersivity, the flow angle, and the contaminant flux. There are 11 measured QoIs in the data space available. By changing the choice of QoIs that we use to solve the stochastic inverse problem, we see the effect of geometric distinctness. Probabilities in the parameter space are calculated using the MC assumption. 1D and 2D marginals are calculated, smoothed, and plotted. The samples are then ranked by probability density and the volume of high-probability regions are calculated. Probabilistic predictions of other QoI are made."
   ]
  },
  {
   "cell_type": "markdown",
   "metadata": {},
   "source": [
    "Import the necessary modules:"
   ]
  },
  {
   "cell_type": "code",
   "execution_count": 16,
   "metadata": {
    "collapsed": true
   },
   "outputs": [],
   "source": [
    "import numpy as np\n",
    "import bet.calculateP as calculateP\n",
    "import bet.postProcess as postProcess\n",
    "import bet.calculateP.simpleFunP as simpleFunP\n",
    "import bet.calculateP.calculateP as calculateP\n",
    "import bet.postProcess.plotP as plotP\n",
    "import bet.postProcess.plotDomains as plotD\n",
    "import bet.postProcess.postTools as postTools\n",
    "import bet.sample as samp"
   ]
  },
  {
   "cell_type": "markdown",
   "metadata": {},
   "source": [
    "Import the samples, data, reference data, and reference parameters:"
   ]
  },
  {
   "cell_type": "code",
   "execution_count": 17,
   "metadata": {
    "collapsed": true
   },
   "outputs": [],
   "source": [
    "parameter_domain = np.loadtxt(\"files/lam_domain.txt.gz\") #parameter domain\n",
    "parameter_dim = parameter_domain.shape[0]\n",
    "\n",
    "# Create input sample set\n",
    "input_samples = samp.sample_set(parameter_dim)\n",
    "input_samples.set_domain(parameter_domain)\n",
    "input_samples.set_values(np.loadtxt(\"files/samples.txt.gz\"))\n",
    "input_samples.estimate_volume_mc() # Use standard MC estimate of volumes"
   ]
  },
  {
   "cell_type": "markdown",
   "metadata": {},
   "source": [
    "Choose which subset of the 11 QoIs to use for inversion:"
   ]
  },
  {
   "cell_type": "code",
   "execution_count": 18,
   "metadata": {
    "collapsed": false
   },
   "outputs": [],
   "source": [
    "QoI_indices_observe = np.array([0,1,2,3])\n",
    "output_samples = samp.sample_set(QoI_indices_observe.size)\n",
    "output_samples.set_values(np.loadtxt(\"files/data.txt.gz\")[:,QoI_indices_observe])\n",
    "\n",
    "# Create discretization object\n",
    "my_discretization = samp.discretization(input_sample_set=input_samples,\n",
    "                                          output_sample_set=output_samples)"
   ]
  },
  {
   "cell_type": "markdown",
   "metadata": {},
   "source": [
    "Choose the bin ratio for the uniform output probability:"
   ]
  },
  {
   "cell_type": "code",
   "execution_count": 19,
   "metadata": {
    "collapsed": true
   },
   "outputs": [],
   "source": [
    "bin_ratio = 0.25 #ratio of length of data region to invert"
   ]
  },
  {
   "cell_type": "markdown",
   "metadata": {},
   "source": [
    "Load the reference parameter and QoI values:"
   ]
  },
  {
   "cell_type": "code",
   "execution_count": 20,
   "metadata": {
    "collapsed": true
   },
   "outputs": [],
   "source": [
    "param_ref = np.loadtxt(\"files/lam_ref.txt.gz\") #reference parameter set\n",
    "Q_ref = np.loadtxt(\"files/Q_ref.txt.gz\")[QoI_indices_observe] #reference QoI set"
   ]
  },
  {
   "cell_type": "markdown",
   "metadata": {},
   "source": [
    "Plot 2D projections of the data domain:"
   ]
  },
  {
   "cell_type": "code",
   "execution_count": 21,
   "metadata": {
    "collapsed": true
   },
   "outputs": [],
   "source": [
    "plotD.scatter_rhoD(my_discretization, ref_sample=Q_ref, io_flag='output', showdim=2)"
   ]
  },
  {
   "cell_type": "code",
   "execution_count": 22,
   "metadata": {
    "collapsed": false
   },
   "outputs": [
    {
     "data": {
      "text/html": [
       "<table><tr><td colspan=3><center>2D Data Projections</center></td></tr><tr><td><img src='rhoD_samples_x1x2_cs.png?1971924469'></td><td><img src='rhoD_samples_x1x3_cs.png?1971924469'></td><td><img src='rhoD_samples_x1x4_cs.png?1971924469'></td></tr><tr><td><img src='rhoD_samples_x2x3_cs.png?1971924469'></td><td><img src='rhoD_samples_x2x4_cs.png?1971924469'></td><td><img src='rhoD_samples_x3x4_cs.png?1971924469'></td></tr></table>"
      ],
      "text/plain": [
       "<IPython.core.display.HTML object>"
      ]
     },
     "metadata": {},
     "output_type": "display_data"
    }
   ],
   "source": [
    "# hack to refresh html after changes within notebook\n",
    "import random\n",
    "__counter__ = random.randint(0,2e9)\n",
    "\n",
    "# displays 2D Projections\n",
    "from IPython.display import HTML, display\n",
    "display(HTML(\"<table><tr><td colspan=3><center>2D Data Projections</center></td></tr>\"+\n",
    "             \"<tr><td><img src='rhoD_samples_x1x2_cs.png?%d'></td>\"% __counter__+\n",
    "             \"<td><img src='rhoD_samples_x1x3_cs.png?%d'></td>\"% __counter__+\n",
    "             \"<td><img src='rhoD_samples_x1x4_cs.png?%d'></td></tr>\"% __counter__+\n",
    "             \"<tr><td><img src='rhoD_samples_x2x3_cs.png?%d'></td>\"% __counter__+\n",
    "             \"<td><img src='rhoD_samples_x2x4_cs.png?%d'></td>\"% __counter__+\n",
    "             \"<td><img src='rhoD_samples_x3x4_cs.png?%d'></td></tr>\"% __counter__+\n",
    "             \"</table>\" ))\n"
   ]
  },
  {
   "cell_type": "markdown",
   "metadata": {},
   "source": [
    "### Suggested changes for user (1):\n",
    "\n",
    "Change the `QoI_indices` and note how it changes the plots of the data domain. The white points are ones with zero probability and the dark points are those with nonzero probability."
   ]
  },
  {
   "cell_type": "markdown",
   "metadata": {},
   "source": [
    "### Suggested changes for user (2):\n",
    "\n",
    "Try different ways of discretizing the probability measure on $\\mathcal{D}$ defined as a uniform probability measure on a rectangle (since $\\mathcal{D}$ is 2-dimensional)."
   ]
  },
  {
   "cell_type": "markdown",
   "metadata": {},
   "source": [
    "* `regular_partition_uniform_distribution_rectangle_scaled` creates a uniform measure on a hyperbox with dimensions relative to the size of the circumscribed hyperbox of the set $\\mathcal{D}$ using the bin_ratio. A total of M samples are drawn within a slightly larger scaled hyperbox to discretize this measure defining M total generalized contour events in $\\Lambda$. The reason a slightly larger scaled hyperbox is used to draw the samples to discretize $\\mathcal{D}$ is because otherwise every generalized contour event will have non-zero probability which obviously defeats the purpose of “localizing” the probability within a subset of $\\mathcal{D}$.\n",
    "\n",
    "* `uniform_partition_uniform_distribution_rectangle_scaled` uses the same measure defined in the same way as `unif_unif`, but the difference is in the discretization which is on a regular grid defined by `cells_per_dimension`. If `cells_per_dimension = 1`, then the contour event corresponding to the entire support of $\\rho_\\mathcal{D}$ is approximated as a single event. This is done by carefully placing a regular 3x3 grid (since $\\dim(\\mathcal{D})=2$ in this case) of points in $\\mathcal{D}$ with the center point of the grid in the center of the support of the measure and the other points placed outside of the rectangle defining the support to define a total of 9 contour events with 8 of them having exactly zero probability."
   ]
  },
  {
   "cell_type": "markdown",
   "metadata": {},
   "source": [
    "Create a simple function approximation of the probablity measure on $\\mathcal{D}$:"
   ]
  },
  {
   "cell_type": "code",
   "execution_count": 23,
   "metadata": {
    "collapsed": true
   },
   "outputs": [],
   "source": [
    "deterministic_discretize_D = True\n",
    "if deterministic_discretize_D == True:\n",
    "    simpleFunP.regular_partition_uniform_distribution_rectangle_scaled(data_set=my_discretization,\n",
    "                                                             Q_ref=Q_ref,\n",
    "                                                             rect_scale=0.25,\n",
    "                                                             cells_per_dimension = 1)\n",
    "else:\n",
    "    simpleFunP.uniform_partition_uniform_distribution_rectangle_scaled(data_set=my_discretization,\n",
    "                                                             Q_ref=Q_ref,\n",
    "                                                             rect_scale=0.25,\n",
    "                                                             M=50,\n",
    "                                                             num_d_emulate=1E5)"
   ]
  },
  {
   "cell_type": "markdown",
   "metadata": {},
   "source": [
    "Calculate probablities using the MC assumption:"
   ]
  },
  {
   "cell_type": "code",
   "execution_count": 24,
   "metadata": {
    "collapsed": true
   },
   "outputs": [],
   "source": [
    "calculateP.prob(my_discretization)"
   ]
  },
  {
   "cell_type": "markdown",
   "metadata": {},
   "source": [
    "### Suggested changes for user (3): Calculate 2D marginal probs"
   ]
  },
  {
   "cell_type": "markdown",
   "metadata": {},
   "source": [
    "At this point, the only thing that should change in the `plotP.*` inputs should be either the `nbins` values or sigma (which influences the kernel density estimation with smaller values implying a density estimate that looks more like a histogram and larger values smoothing out the values more).\n",
    "\n",
    "There are ways to determine “optimal” smoothing parameters (e.g., see CV, GCV, and other similar methods), but we have not incorporated these into the code as lower-dimensional marginal plots have limited value in understanding the structure of a high dimensional non-parametric probability measure."
   ]
  },
  {
   "cell_type": "markdown",
   "metadata": {},
   "source": [
    "Plot the marginal probabilities:\n",
    "> **Note**: *Error in the plot needs troubleshooting.*"
   ]
  },
  {
   "cell_type": "code",
   "execution_count": 25,
   "metadata": {
    "collapsed": false
   },
   "outputs": [
    {
     "ename": "missing_attribute",
     "evalue": "Missing emulated_input_sample_set",
     "output_type": "error",
     "traceback": [
      "\u001b[0;31m---------------------------------------------------------------------------\u001b[0m",
      "\u001b[0;31mmissing_attribute\u001b[0m                         Traceback (most recent call last)",
      "\u001b[0;32m<ipython-input-25-e194e88f621b>\u001b[0m in \u001b[0;36m<module>\u001b[0;34m()\u001b[0m\n\u001b[0;32m----> 1\u001b[0;31m \u001b[1;33m(\u001b[0m\u001b[0mbins\u001b[0m\u001b[1;33m,\u001b[0m \u001b[0mmarginals2D\u001b[0m\u001b[1;33m)\u001b[0m \u001b[1;33m=\u001b[0m \u001b[0mplotP\u001b[0m\u001b[1;33m.\u001b[0m\u001b[0mcalculate_2D_marginal_probs\u001b[0m\u001b[1;33m(\u001b[0m\u001b[0mmy_discretization\u001b[0m\u001b[1;33m,\u001b[0m \u001b[0mnbins\u001b[0m \u001b[1;33m=\u001b[0m \u001b[1;36m10\u001b[0m\u001b[1;33m)\u001b[0m\u001b[1;33m\u001b[0m\u001b[0m\n\u001b[0m",
      "\u001b[0;32mC:\\ProgramData\\Anaconda2\\lib\\site-packages\\bet-2.0.0-py2.7.egg\\bet\\postProcess\\plotP.pyc\u001b[0m in \u001b[0;36mcalculate_2D_marginal_probs\u001b[0;34m(sample_set, nbins)\u001b[0m\n\u001b[1;32m    116\u001b[0m         \u001b[0msample_obj\u001b[0m \u001b[1;33m=\u001b[0m \u001b[0msample_set\u001b[0m\u001b[1;33m.\u001b[0m\u001b[0m_emulated_input_sample_set\u001b[0m\u001b[1;33m\u001b[0m\u001b[0m\n\u001b[1;32m    117\u001b[0m         \u001b[1;32mif\u001b[0m \u001b[0msample_obj\u001b[0m \u001b[1;32mis\u001b[0m \u001b[0mNone\u001b[0m\u001b[1;33m:\u001b[0m\u001b[1;33m\u001b[0m\u001b[0m\n\u001b[0;32m--> 118\u001b[0;31m             \u001b[1;32mraise\u001b[0m \u001b[0mmissing_attribute\u001b[0m\u001b[1;33m(\u001b[0m\u001b[1;34m\"Missing emulated_input_sample_set\"\u001b[0m\u001b[1;33m)\u001b[0m\u001b[1;33m\u001b[0m\u001b[0m\n\u001b[0m\u001b[1;32m    119\u001b[0m     \u001b[1;32melif\u001b[0m \u001b[0misinstance\u001b[0m\u001b[1;33m(\u001b[0m\u001b[0msample_set\u001b[0m\u001b[1;33m,\u001b[0m \u001b[0msample\u001b[0m\u001b[1;33m.\u001b[0m\u001b[0msample_set_base\u001b[0m\u001b[1;33m)\u001b[0m\u001b[1;33m:\u001b[0m\u001b[1;33m\u001b[0m\u001b[0m\n\u001b[1;32m    120\u001b[0m         \u001b[0msample_obj\u001b[0m \u001b[1;33m=\u001b[0m \u001b[0msample_set\u001b[0m\u001b[1;33m\u001b[0m\u001b[0m\n",
      "\u001b[0;31mmissing_attribute\u001b[0m: Missing emulated_input_sample_set"
     ]
    }
   ],
   "source": [
    "(bins, marginals2D) = plotP.calculate_2D_marginal_probs(my_discretization, nbins = 10)"
   ]
  },
  {
   "cell_type": "markdown",
   "metadata": {},
   "source": [
    "Smooth 2d marginals probs (optional):"
   ]
  },
  {
   "cell_type": "code",
   "execution_count": 27,
   "metadata": {
    "collapsed": false
   },
   "outputs": [
    {
     "ename": "NameError",
     "evalue": "name 'marginals2D' is not defined",
     "output_type": "error",
     "traceback": [
      "\u001b[0;31m---------------------------------------------------------------------------\u001b[0m",
      "\u001b[0;31mNameError\u001b[0m                                 Traceback (most recent call last)",
      "\u001b[0;32m<ipython-input-27-a357d0734d79>\u001b[0m in \u001b[0;36m<module>\u001b[0;34m()\u001b[0m\n\u001b[0;32m----> 1\u001b[0;31m \u001b[0mmarginals2D\u001b[0m \u001b[1;33m=\u001b[0m \u001b[0mplotP\u001b[0m\u001b[1;33m.\u001b[0m\u001b[0msmooth_marginals_2D\u001b[0m\u001b[1;33m(\u001b[0m\u001b[0mmarginals2D\u001b[0m\u001b[1;33m,\u001b[0m\u001b[0mbins\u001b[0m\u001b[1;33m,\u001b[0m \u001b[0msigma\u001b[0m\u001b[1;33m=\u001b[0m\u001b[1;36m1.0\u001b[0m\u001b[1;33m)\u001b[0m\u001b[1;33m\u001b[0m\u001b[0m\n\u001b[0m",
      "\u001b[0;31mNameError\u001b[0m: name 'marginals2D' is not defined"
     ]
    }
   ],
   "source": [
    "marginals2D = plotP.smooth_marginals_2D(marginals2D,bins, sigma=1.0)"
   ]
  },
  {
   "cell_type": "markdown",
   "metadata": {},
   "source": [
    "Plot 2d marginals probs:"
   ]
  },
  {
   "cell_type": "code",
   "execution_count": 28,
   "metadata": {
    "collapsed": false
   },
   "outputs": [
    {
     "ename": "NameError",
     "evalue": "name 'marginals2D' is not defined",
     "output_type": "error",
     "traceback": [
      "\u001b[0;31m---------------------------------------------------------------------------\u001b[0m",
      "\u001b[0;31mNameError\u001b[0m                                 Traceback (most recent call last)",
      "\u001b[0;32m<ipython-input-28-078c484a81de>\u001b[0m in \u001b[0;36m<module>\u001b[0;34m()\u001b[0m\n\u001b[0;32m----> 1\u001b[0;31m plotP.plot_2D_marginal_probs(marginals2D, bins, my_discretization, filename = \"contaminant_map\",\n\u001b[0m\u001b[1;32m      2\u001b[0m                          \u001b[0mplot_surface\u001b[0m\u001b[1;33m=\u001b[0m\u001b[0mFalse\u001b[0m\u001b[1;33m,\u001b[0m\u001b[1;33m\u001b[0m\u001b[0m\n\u001b[1;32m      3\u001b[0m                          \u001b[0mlam_ref\u001b[0m \u001b[1;33m=\u001b[0m \u001b[0mparam_ref\u001b[0m\u001b[1;33m,\u001b[0m\u001b[1;33m\u001b[0m\u001b[0m\n\u001b[1;32m      4\u001b[0m                          \u001b[0mlambda_label\u001b[0m\u001b[1;33m=\u001b[0m\u001b[0mlabels\u001b[0m\u001b[1;33m,\u001b[0m\u001b[1;33m\u001b[0m\u001b[0m\n\u001b[1;32m      5\u001b[0m                          interactive=False)\n",
      "\u001b[0;31mNameError\u001b[0m: name 'marginals2D' is not defined"
     ]
    }
   ],
   "source": [
    "plotP.plot_2D_marginal_probs(marginals2D, bins, my_discretization, filename = \"contaminant_map\",\n",
    "                         plot_surface=False,\n",
    "                         lam_ref = param_ref,\n",
    "                         lambda_label=labels,\n",
    "                         interactive=False)"
   ]
  },
  {
   "cell_type": "markdown",
   "metadata": {},
   "source": [
    "Calculate 1d marginal probs:"
   ]
  },
  {
   "cell_type": "code",
   "execution_count": 26,
   "metadata": {
    "collapsed": false
   },
   "outputs": [
    {
     "ename": "missing_attribute",
     "evalue": "Missing emulated_input_sample_set",
     "output_type": "error",
     "traceback": [
      "\u001b[0;31m---------------------------------------------------------------------------\u001b[0m",
      "\u001b[0;31mmissing_attribute\u001b[0m                         Traceback (most recent call last)",
      "\u001b[0;32m<ipython-input-26-ca48ffa2527b>\u001b[0m in \u001b[0;36m<module>\u001b[0;34m()\u001b[0m\n\u001b[0;32m----> 1\u001b[0;31m \u001b[1;33m(\u001b[0m\u001b[0mbins\u001b[0m\u001b[1;33m,\u001b[0m \u001b[0mmarginals1D\u001b[0m\u001b[1;33m)\u001b[0m \u001b[1;33m=\u001b[0m \u001b[0mplotP\u001b[0m\u001b[1;33m.\u001b[0m\u001b[0mcalculate_1D_marginal_probs\u001b[0m\u001b[1;33m(\u001b[0m\u001b[0mmy_discretization\u001b[0m\u001b[1;33m,\u001b[0m \u001b[0mnbins\u001b[0m \u001b[1;33m=\u001b[0m \u001b[1;36m20\u001b[0m\u001b[1;33m)\u001b[0m\u001b[1;33m\u001b[0m\u001b[0m\n\u001b[0m",
      "\u001b[0;32mC:\\ProgramData\\Anaconda2\\lib\\site-packages\\bet-2.0.0-py2.7.egg\\bet\\postProcess\\plotP.pyc\u001b[0m in \u001b[0;36mcalculate_1D_marginal_probs\u001b[0;34m(sample_set, nbins)\u001b[0m\n\u001b[1;32m     55\u001b[0m         \u001b[0msample_obj\u001b[0m \u001b[1;33m=\u001b[0m \u001b[0msample_set\u001b[0m\u001b[1;33m.\u001b[0m\u001b[0m_emulated_input_sample_set\u001b[0m\u001b[1;33m\u001b[0m\u001b[0m\n\u001b[1;32m     56\u001b[0m         \u001b[1;32mif\u001b[0m \u001b[0msample_obj\u001b[0m \u001b[1;32mis\u001b[0m \u001b[0mNone\u001b[0m\u001b[1;33m:\u001b[0m\u001b[1;33m\u001b[0m\u001b[0m\n\u001b[0;32m---> 57\u001b[0;31m             \u001b[1;32mraise\u001b[0m \u001b[0mmissing_attribute\u001b[0m\u001b[1;33m(\u001b[0m\u001b[1;34m\"Missing emulated_input_sample_set\"\u001b[0m\u001b[1;33m)\u001b[0m\u001b[1;33m\u001b[0m\u001b[0m\n\u001b[0m\u001b[1;32m     58\u001b[0m     \u001b[1;32melif\u001b[0m \u001b[0misinstance\u001b[0m\u001b[1;33m(\u001b[0m\u001b[0msample_set\u001b[0m\u001b[1;33m,\u001b[0m \u001b[0msample\u001b[0m\u001b[1;33m.\u001b[0m\u001b[0msample_set_base\u001b[0m\u001b[1;33m)\u001b[0m\u001b[1;33m:\u001b[0m\u001b[1;33m\u001b[0m\u001b[0m\n\u001b[1;32m     59\u001b[0m         \u001b[0msample_obj\u001b[0m \u001b[1;33m=\u001b[0m \u001b[0msample_set\u001b[0m\u001b[1;33m\u001b[0m\u001b[0m\n",
      "\u001b[0;31mmissing_attribute\u001b[0m: Missing emulated_input_sample_set"
     ]
    }
   ],
   "source": [
    "(bins, marginals1D) = plotP.calculate_1D_marginal_probs(my_discretization, nbins = 20)"
   ]
  },
  {
   "cell_type": "markdown",
   "metadata": {},
   "source": [
    "Smooth 1d marginal probs (optional):"
   ]
  },
  {
   "cell_type": "code",
   "execution_count": null,
   "metadata": {
    "collapsed": true
   },
   "outputs": [],
   "source": [
    "marginals1D = plotP.smooth_marginals_1D(marginals1D, bins, sigma=1.0)"
   ]
  },
  {
   "cell_type": "markdown",
   "metadata": {},
   "source": [
    "Plot 1d marginal probs:"
   ]
  },
  {
   "cell_type": "code",
   "execution_count": null,
   "metadata": {
    "collapsed": true
   },
   "outputs": [],
   "source": [
    "plotP.plot_1D_marginal_probs(marginals1D, bins, my_discretization,\n",
    "                         filename = \"contaminant_map\",\n",
    "                         interactive=False,\n",
    "                         lam_ref=param_ref,\n",
    "                         lambda_label=labels)"
   ]
  },
  {
   "cell_type": "markdown",
   "metadata": {},
   "source": [
    "Sort samples by highest probability density and take highest x percent:"
   ]
  },
  {
   "cell_type": "code",
   "execution_count": 31,
   "metadata": {
    "collapsed": false
   },
   "outputs": [],
   "source": [
    "percentile = 1.0\n",
    "# Sort samples by highest probability density and sample highest percentile percent samples\n",
    "(num_samples, my_discretization_highP, indices)= postTools.sample_highest_prob(\n",
    "    percentile, my_discretization, sort=True)"
   ]
  },
  {
   "cell_type": "markdown",
   "metadata": {},
   "source": [
    "Print the number of these samples and the ratio of the volume they take up:"
   ]
  },
  {
   "cell_type": "code",
   "execution_count": 32,
   "metadata": {
    "collapsed": false
   },
   "outputs": [
    {
     "name": "stdout",
     "output_type": "stream",
     "text": [
      "(647, 0.064700000000000008)\n"
     ]
    }
   ],
   "source": [
    "print (num_samples, np.sum(my_discretization_highP._input_sample_set.get_volumes()))"
   ]
  },
  {
   "cell_type": "markdown",
   "metadata": {},
   "source": [
    "### Suggested changes for user (4):\n",
    "Notice how the marginal probabilites change with different choices of `QoI_indices`. Try choosing only 2 or 3, instead of 4, indices and notice the higher-dimensionality of the structure in the 2d marginals. Notice how some QoI concentrate the probability into smaller regions. These QoI are more geometrically distinct.\n",
    "\n",
    "Notice that the volume that the high-probability samples take up is smaller with more geometrically distinct QoIs.\n"
   ]
  },
  {
   "cell_type": "markdown",
   "metadata": {},
   "source": [
    "### Suggested changes for user (5):\n",
    "Change `percentile` to values between 1.0 and 0.0. Notice that while the region of nonzero probabibilty may have a significant volume, much of this volume contains relatively low probability. Change the value to 0.95, 0.9, 0.75, and 0.5 and notice the volume decrease significantly.\n",
    "\n",
    "Propogate highest probability part of the probability measure through a different QoI map:"
   ]
  },
  {
   "cell_type": "code",
   "execution_count": 36,
   "metadata": {
    "collapsed": true
   },
   "outputs": [],
   "source": [
    "QoI_indices_predict = np.array([7])\n",
    "output_samples_predict = samp.sample_set(QoI_indices_predict.size)\n",
    "output_samples_predict.set_values(np.loadtxt(\"files/data.txt.gz\")[:,QoI_indices_predict])\n",
    "output_samples_predict.set_probabilities(input_samples.get_probabilities())\n",
    "\n",
    "# Determine range of predictions and store as domain for plotting purposes\n",
    "output_samples_predict.set_domain(output_samples_predict.get_bounding_box())"
   ]
  },
  {
   "cell_type": "markdown",
   "metadata": {},
   "source": [
    "Calculate and plot PDF of predicted QoI:"
   ]
  },
  {
   "cell_type": "code",
   "execution_count": 37,
   "metadata": {
    "collapsed": false
   },
   "outputs": [],
   "source": [
    "(bins_pred, marginals1D_pred) = plotP.calculate_1D_marginal_probs(output_samples_predict,nbins = 20)\n",
    "plotP.plot_1D_marginal_probs(marginals1D_pred, bins_pred, output_samples_predict,\n",
    "                           filename = \"contaminant_prediction\", interactive=False)"
   ]
  },
  {
   "cell_type": "code",
   "execution_count": 39,
   "metadata": {
    "collapsed": false
   },
   "outputs": [
    {
     "data": {
      "text/html": [
       "<img src='contaminant_prediction_1D_0.png?1761931251'>"
      ],
      "text/plain": [
       "<IPython.core.display.HTML object>"
      ]
     },
     "metadata": {},
     "output_type": "display_data"
    }
   ],
   "source": [
    "# hack to refresh html after changes within notebook\n",
    "import random\n",
    "__counter__ = random.randint(0,2e9)\n",
    "\n",
    "# Plot QoI\n",
    "from IPython.display import HTML, display\n",
    "display(HTML(\"<img src='contaminant_prediction_1D_0.png?%d'>\"% __counter__ ))"
   ]
  },
  {
   "cell_type": "markdown",
   "metadata": {},
   "source": [
    "### Suggested changes for user (6):\n",
    "Change the prediction QoI map. Compare to the reference values."
   ]
  },
  {
   "cell_type": "code",
   "execution_count": null,
   "metadata": {
    "collapsed": true
   },
   "outputs": [],
   "source": []
  },
  {
   "cell_type": "code",
   "execution_count": null,
   "metadata": {
    "collapsed": true
   },
   "outputs": [],
   "source": []
  }
 ],
 "metadata": {
  "kernelspec": {
   "display_name": "Python 2",
   "language": "python",
   "name": "python2"
  },
  "language_info": {
   "codemirror_mode": {
    "name": "ipython",
    "version": 2
   },
   "file_extension": ".py",
   "mimetype": "text/x-python",
   "name": "python",
   "nbconvert_exporter": "python",
   "pygments_lexer": "ipython2",
   "version": "2.7.13"
  }
 },
 "nbformat": 4,
 "nbformat_minor": 2
}
