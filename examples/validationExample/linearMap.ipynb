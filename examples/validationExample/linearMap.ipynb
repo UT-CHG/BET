{
 "cells": [
  {
   "cell_type": "markdown",
   "metadata": {},
   "source": [
    "# <center> Validation Example: Linear Map\n",
    "Copyright (C) 2014-2019 The BET Development Team\n",
    "\n",
    "This 2D linear example verifies that geometrically distinct QoI can\n",
    "recreate a probability measure on the input parameter space\n",
    "used to define the output probability measure. "
   ]
  },
  {
   "cell_type": "code",
   "execution_count": null,
   "metadata": {},
   "outputs": [],
   "source": [
    "import numpy as np\n",
    "import bet.calculateP.simpleFunP as simpleFunP\n",
    "import bet.calculateP.calculateP as calculateP\n",
    "import bet.sample as samp\n",
    "import bet.sampling.basicSampling as bsam\n",
    "from myModel import my_model\n",
    "from IPython.display import Image"
   ]
  },
  {
   "cell_type": "markdown",
   "metadata": {},
   "source": [
    "# Characterize Parameter Space\n",
    "Define the sampler that will be used to create the discretization\n",
    "object, which is the fundamental object used by BET to compute\n",
    "solutions to the stochastic inverse problem.\n",
    "The `sampler` and `my_model` is the interface of BET to the model,\n",
    "and it allows BET to create input/output samples of the model."
   ]
  },
  {
   "cell_type": "code",
   "execution_count": null,
   "metadata": {},
   "outputs": [],
   "source": [
    "sampler = bsam.sampler(my_model)\n",
    "\n",
    "# Initialize 3-dimensional input parameter sample set object\n",
    "input_samples = samp.sample_set(2)\n",
    "\n",
    "# Set parameter domain\n",
    "input_samples.set_domain(np.repeat([[0.0, 1.0]], 2, axis=0))"
   ]
  },
  {
   "cell_type": "markdown",
   "metadata": {},
   "source": [
    "## Suggested Changes\n",
    "\n",
    "Try with and without random sampling.\n",
    "\n",
    "If using random sampling, try `num_samples = 1E3` and `1E4`.\n",
    "What happens when `num_samples = 1E2`?\n",
    "Try using `'lhs'` instead of `'random'` in the `random_sample_set`.\n",
    "\n",
    "If using regular sampling, try different numbers of samples\n",
    "per dimension.\n"
   ]
  },
  {
   "cell_type": "code",
   "execution_count": null,
   "metadata": {},
   "outputs": [],
   "source": [
    "# Generate samples on the parameter space\n",
    "randomSampling = True\n",
    "if randomSampling is True:\n",
    "    input_samples = sampler.random_sample_set('random', input_samples, num_samples=1E3)\n",
    "else:\n",
    "    input_samples = sampler.regular_sample_set(input_samples, num_samples_per_dim=[30, 30])\n",
    "\n",
    "    "
   ]
  },
  {
   "cell_type": "markdown",
   "metadata": {},
   "source": [
    "# Characterize Data Space\n",
    "Compute the output distribution simple function approximation by\n",
    "propagating a different set of samples to implicitly define a Voronoi\n",
    "discretization of the data space, corresponding to an implicitly defined\n",
    "set of contour events defining a discretization of the input parameter\n",
    "space. \n",
    "\n",
    "The probabilities of the Voronoi cells in the data space (and\n",
    "thus the probabilities of the corresponding contour events in the\n",
    "input parameter space) are determined by Monte Carlo sampling using\n",
    "a set of i.i.d. uniform samples to bin into these cells."
   ]
  },
  {
   "cell_type": "markdown",
   "metadata": {},
   "source": [
    "## Suggested Changes\n",
    "\n",
    "A standard Monte Carlo (MC) assumption is that every Voronoi cell\n",
    "has the same volume. If a regular grid of samples was used, then\n",
    "the standard MC assumption is true.\n",
    "\n",
    "See what happens if the MC assumption is not assumed to be true, and\n",
    "if different numbers of points are used to estimate the volumes of\n",
    "the Voronoi cells."
   ]
  },
  {
   "cell_type": "code",
   "execution_count": null,
   "metadata": {},
   "outputs": [],
   "source": [
    "MC_assumption = True\n",
    "\n",
    "# Estimate volumes of Voronoi cells associated with the parameter samples\n",
    "if MC_assumption is False:\n",
    "    input_samples.estimate_volume(n_mc_points=1E5)\n",
    "else:\n",
    "    input_samples.estimate_volume_mc()\n",
    "\n",
    "# Create the discretization object using the input samples\n",
    "my_discretization = sampler.compute_QoI_and_create_discretization(input_samples,\n",
    "                                               savefile = 'Validation_discretization.txt.gz')"
   ]
  },
  {
   "cell_type": "markdown",
   "metadata": {},
   "source": [
    "# Solve Problem"
   ]
  },
  {
   "cell_type": "markdown",
   "metadata": {},
   "source": [
    "## Suggested Changes\n",
    "\n",
    "See the effect of using different values for \n",
    "`num_samples_discretize_D`.\n",
    "Choosing `num_samples_discretize_D = 1` produces exactly the right answer and is equivalent to assigning a\n",
    "uniform probability to each data sample above (why?).\n",
    "\n",
    "Try setting this to 2, 5, 10, 50, and 100. Can you explain what you\n",
    "are seeing? To see an exaggerated effect, try using random sampling\n",
    "above with `n_samples` set to `1E2`.\n"
   ]
  },
  {
   "cell_type": "code",
   "execution_count": null,
   "metadata": {},
   "outputs": [],
   "source": [
    "num_samples_discretize_D = 1\n",
    "num_iid_samples = 1E5\n",
    "\n",
    "Partition_set = samp.sample_set(2)\n",
    "Monte_Carlo_set = samp.sample_set(2)\n",
    "\n",
    "Partition_set.set_domain(np.repeat([[0.0, 1.0]], 2, axis=0))\n",
    "Monte_Carlo_set.set_domain(np.repeat([[0.0, 1.0]], 2, axis=0))\n",
    "\n",
    "Partition_discretization = sampler.create_random_discretization('random',\n",
    "                                                            Partition_set,\n",
    "                                                            num_samples=num_samples_discretize_D)\n",
    "\n",
    "Monte_Carlo_discretization = sampler.create_random_discretization('random',\n",
    "                                                            Monte_Carlo_set,\n",
    "                                                            num_samples=num_iid_samples)\n",
    "\n",
    "# Compute the simple function approximation to the distribution on the data space\n",
    "simpleFunP.user_partition_user_distribution(my_discretization,\n",
    "                                            Partition_discretization,\n",
    "                                            Monte_Carlo_discretization)\n",
    "\n",
    "# Calculate probabilities\n",
    "calculateP.prob(my_discretization)"
   ]
  },
  {
   "cell_type": "markdown",
   "metadata": {},
   "source": [
    "# Store Data for Retrieval in other Jupyter Notebooks"
   ]
  },
  {
   "cell_type": "code",
   "execution_count": null,
   "metadata": {},
   "outputs": [],
   "source": [
    "%store my_discretization"
   ]
  }
 ],
 "metadata": {
  "kernelspec": {
   "display_name": "Python 3",
   "language": "python",
   "name": "python3"
  },
  "language_info": {
   "codemirror_mode": {
    "name": "ipython",
    "version": 3
   },
   "file_extension": ".py",
   "mimetype": "text/x-python",
   "name": "python",
   "nbconvert_exporter": "python",
   "pygments_lexer": "ipython3",
   "version": "3.7.3"
  }
 },
 "nbformat": 4,
 "nbformat_minor": 4
}
