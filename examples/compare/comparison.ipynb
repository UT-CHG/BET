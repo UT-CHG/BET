{
 "cells": [
  {
   "cell_type": "code",
   "execution_count": null,
   "metadata": {},
   "outputs": [],
   "source": [
    "import bet.postProcess.compareP as compP\n",
    "from helpers import *\n",
    "import matplotlib.pyplot as plt"
   ]
  },
  {
   "cell_type": "markdown",
   "metadata": {},
   "source": [
    "# Define and Preview Sets"
   ]
  },
  {
   "cell_type": "code",
   "execution_count": null,
   "metadata": {},
   "outputs": [],
   "source": [
    "num_samples_left = 50\n",
    "num_samples_right = 50\n",
    "delta = 0.5 # width of measure's support per dimension\n",
    "L = unit_center_set(2, num_samples_left, delta)\n",
    "R = unit_center_set(2, num_samples_right, delta)"
   ]
  },
  {
   "cell_type": "code",
   "execution_count": null,
   "metadata": {},
   "outputs": [],
   "source": [
    "plt.scatter(L._values[:,0], L._values[:,1], c=L._probabilities)\n",
    "plt.xlim([0,1])\n",
    "plt.ylim([0,1])\n",
    "plt.show()"
   ]
  },
  {
   "cell_type": "code",
   "execution_count": null,
   "metadata": {},
   "outputs": [],
   "source": [
    "plt.scatter(R._values[:,0], R._values[:,1], c=R._probabilities)\n",
    "plt.xlim([0,1])\n",
    "plt.ylim([0,1])\n",
    "plt.show()"
   ]
  },
  {
   "cell_type": "markdown",
   "metadata": {},
   "source": [
    "# Define Metric\n",
    "Also, show values"
   ]
  },
  {
   "cell_type": "code",
   "execution_count": null,
   "metadata": {},
   "outputs": [],
   "source": [
    "num_emulation_samples = 2000 \n",
    "mm = compP.compare(L, R, num_emulation_samples) # initialize metric"
   ]
  },
  {
   "cell_type": "code",
   "execution_count": null,
   "metadata": {},
   "outputs": [],
   "source": [
    "# mm.get_left().get_values()"
   ]
  },
  {
   "cell_type": "code",
   "execution_count": null,
   "metadata": {},
   "outputs": [],
   "source": [
    "# mm.get_right().get_values()"
   ]
  },
  {
   "cell_type": "markdown",
   "metadata": {},
   "source": [
    "# Clip and compare\n",
    "\n",
    "We are going to create a `comparison` object which contains sets that are proper subsets of the original (we will be dividing the number of samples in half). However, since the Voronoi cells that are implicitly defined and consitute the $\\sigma$-algebra are going to be fundamentally different, we observe that the two densities reflect the differences in geometry. \n",
    "\n",
    "Our chosen densities are uniform and centered in the middle of the domain. The integration sample set is copied during the clipping procedure by default, but can be changed by passing `copy=False` to `clip` if you prefer the two comparisons are linked."
   ]
  },
  {
   "cell_type": "code",
   "execution_count": null,
   "metadata": {},
   "outputs": [],
   "source": [
    "# cut both sample sets in half\n",
    "mc = mm.clip(num_samples_left//2,num_samples_right//2)"
   ]
  },
  {
   "cell_type": "code",
   "execution_count": null,
   "metadata": {},
   "outputs": [],
   "source": [
    "# mc.get_left().get_values()"
   ]
  },
  {
   "cell_type": "code",
   "execution_count": null,
   "metadata": {},
   "outputs": [],
   "source": [
    "# mc.get_right().get_values()"
   ]
  },
  {
   "cell_type": "markdown",
   "metadata": {},
   "source": [
    "Observe how these are distinctly different objects in memory:"
   ]
  },
  {
   "cell_type": "code",
   "execution_count": null,
   "metadata": {},
   "outputs": [],
   "source": [
    "mm, mc"
   ]
  },
  {
   "cell_type": "markdown",
   "metadata": {},
   "source": [
    "# Density Emulation\n",
    "We will now estimate the densities on the two comparison objects (remember, one is a clipped version of the other, but they share the same `integration_sample_set`)."
   ]
  },
  {
   "cell_type": "code",
   "execution_count": null,
   "metadata": {},
   "outputs": [],
   "source": [
    "ld1,rd1 = mm.estimate_density()"
   ]
  },
  {
   "cell_type": "code",
   "execution_count": null,
   "metadata": {},
   "outputs": [],
   "source": [
    "I = mc.get_emulated().get_values()"
   ]
  },
  {
   "cell_type": "code",
   "execution_count": null,
   "metadata": {},
   "outputs": [],
   "source": [
    "plt.scatter(I[:,0], I[:,1], c=rd1,s =10, alpha=0.5)\n",
    "plt.scatter(R._values[:,0], R._values[:,1], marker='o', s=50, c='k')\n",
    "plt.xlim([0,1])\n",
    "plt.ylim([0,1])\n",
    "plt.title(\"Right Density\")\n",
    "plt.show()"
   ]
  },
  {
   "cell_type": "code",
   "execution_count": null,
   "metadata": {},
   "outputs": [],
   "source": [
    "plt.scatter(I[:,0], I[:,1], c=ld1, s=10, alpha=0.5)\n",
    "plt.scatter(L._values[:,0], L._values[:,1], marker='o', s=50, c='k')\n",
    "plt.xlim([0,1])\n",
    "plt.ylim([0,1])\n",
    "plt.title(\"Left Density\")\n",
    "plt.show()"
   ]
  },
  {
   "cell_type": "markdown",
   "metadata": {},
   "source": [
    "## Clipped"
   ]
  },
  {
   "cell_type": "code",
   "execution_count": null,
   "metadata": {},
   "outputs": [],
   "source": [
    "ld2,rd2 = mc.estimate_density()"
   ]
  },
  {
   "cell_type": "code",
   "execution_count": null,
   "metadata": {},
   "outputs": [],
   "source": [
    "plt.scatter(I[:,0], I[:,1], c=rd2,s =10, alpha=0.5)\n",
    "plt.scatter(mc.get_right()._values[:,0],\n",
    "            mc.get_right()._values[:,1], \n",
    "            marker='o', s=50, c='k')\n",
    "plt.xlim([0,1])\n",
    "plt.ylim([0,1])\n",
    "plt.title(\"Right Density\")\n",
    "plt.show()"
   ]
  },
  {
   "cell_type": "code",
   "execution_count": null,
   "metadata": {},
   "outputs": [],
   "source": [
    "plt.scatter(I[:,0], I[:,1], c=ld2, s=10, alpha=0.5)\n",
    "plt.scatter(mc.get_left()._values[:,0], \n",
    "            mc.get_left()._values[:,1], \n",
    "            marker='o', s=50, c='k')\n",
    "plt.xlim([0,1])\n",
    "plt.ylim([0,1])\n",
    "plt.title(\"Left Density\")\n",
    "plt.show()"
   ]
  },
  {
   "cell_type": "markdown",
   "metadata": {},
   "source": [
    "# Distances"
   ]
  },
  {
   "cell_type": "code",
   "execution_count": null,
   "metadata": {},
   "outputs": [],
   "source": [
    "from scipy.stats import entropy as kl_div\n",
    "\n",
    "mm.set_left(unit_center_set(2, 1000, delta/2))\n",
    "mm.set_right(unit_center_set(2, 1000, delta))\n",
    "print([mm.value(kl_div),\n",
    "       mm.value('tv'),\n",
    "       mm.value('totvar'),\n",
    "       mm.value('mink', w=0.5, p=1),\n",
    "       mm.value('norm'),\n",
    "       mm.value('sqhell'),\n",
    "       mm.value('hell'),\n",
    "       mm.value('hellinger')])"
   ]
  },
  {
   "cell_type": "markdown",
   "metadata": {},
   "source": [
    "# Interactive Demonstration of `compP.density`\n",
    "This will require `ipywidgets`. It is a minimalistic example of using the density method without the comparison class. \n"
   ]
  },
  {
   "cell_type": "code",
   "execution_count": null,
   "metadata": {},
   "outputs": [],
   "source": [
    "import ipywidgets as wd"
   ]
  },
  {
   "cell_type": "code",
   "execution_count": null,
   "metadata": {},
   "outputs": [],
   "source": [
    "def show_clip(samples=100, delta=0.5):\n",
    "    np.random.seed(int(121))\n",
    "    S = unit_center_set(2, samples, delta)\n",
    "    compP.density(S)\n",
    "    plt.figure()\n",
    "    plt.scatter(S._values[:,0], S._values[:,1], \n",
    "                c=S._density.ravel())\n",
    "    plt.show()"
   ]
  },
  {
   "cell_type": "code",
   "execution_count": null,
   "metadata": {},
   "outputs": [],
   "source": [
    "wd.interact(show_clip, samples=(20,500), delta=(0.05,1,0.05))"
   ]
  },
  {
   "cell_type": "markdown",
   "metadata": {},
   "source": [
    "Below, we show an example of using the comparison object to get a better picture of the sets defined above, without necessarily needing to compare two measures."
   ]
  },
  {
   "cell_type": "code",
   "execution_count": null,
   "metadata": {},
   "outputs": [],
   "source": [
    "import scipy.stats as sstats"
   ]
  },
  {
   "cell_type": "code",
   "execution_count": null,
   "metadata": {},
   "outputs": [],
   "source": [
    "def show_clipm(samples=100, delta=0.5):\n",
    "    np.random.seed(int(121))\n",
    "    S = unit_center_set(2, samples, delta)\n",
    "    \n",
    "    # alternative probabilities\n",
    "    xprobs = sstats.distributions.norm(0.5, delta).pdf(S._values[:,0])\n",
    "    yprobs = sstats.distributions.norm(0.5, delta).pdf(S._values[:,1])\n",
    "    probs = xprobs*yprobs\n",
    "    S.set_probabilities(probs*S._volumes)\n",
    "    \n",
    "    I = mm.get_emulated()\n",
    "    m = compP.comparison(I,S,None)\n",
    "    m.estimate_density_left()\n",
    "    plt.figure()\n",
    "    plt.scatter(I._values[:,0], I._values[:,1], \n",
    "                c=S._emulated_density.ravel())\n",
    "    plt.scatter([0.5], [0.5], marker='x')\n",
    "    plt.show()"
   ]
  },
  {
   "cell_type": "code",
   "execution_count": null,
   "metadata": {},
   "outputs": [],
   "source": [
    "wd.interact(show_clipm, samples=(20,500), delta=(0.1,1,0.05))"
   ]
  },
  {
   "cell_type": "markdown",
   "metadata": {},
   "source": [
    "# Suggested Changes\n",
    "\n",
    "Change `num_integration_samples` at the [top](#Define-Metric) of the notebook, then re-run the notebook. Try changing the values of `delta` both above and in the interactive examples. Notice how our approximation error is more pronouned when `delta` is large.\n",
    "\n",
    "Try setting `S._probabilities` with `S.set_probabilities()` to something non-uniform.\n",
    "\n",
    "Try passing `S.clip(samples//2)` as the second argument to `compP.comparison` in the second interactive example and either replacing `estimate_density_left` with `estimate_density` or simply adding `estimate_density_right()` below. Plot the resulting right density estimate either as a separate subplot or on the same axes."
   ]
  },
  {
   "cell_type": "code",
   "execution_count": null,
   "metadata": {},
   "outputs": [],
   "source": []
  }
 ],
 "metadata": {
  "kernelspec": {
   "display_name": "Python 3",
   "language": "python",
   "name": "python3"
  },
  "language_info": {
   "codemirror_mode": {
    "name": "ipython",
    "version": 3
   },
   "file_extension": ".py",
   "mimetype": "text/x-python",
   "name": "python",
   "nbconvert_exporter": "python",
   "pygments_lexer": "ipython3",
   "version": "3.7.3"
  }
 },
 "nbformat": 4,
 "nbformat_minor": 2
}
