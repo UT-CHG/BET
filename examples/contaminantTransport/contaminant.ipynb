{
 "cells": [
  {
   "cell_type": "markdown",
   "metadata": {},
   "source": [
    "# <center> Contaminant Transport Example\n",
    "Copyright (C) 2014-2019 The BET Development Team\n"
   ]
  },
  {
   "cell_type": "markdown",
   "metadata": {},
   "source": [
    "This example takes uniformly distributed samples of parameters and\n",
    "output data from a simple groundwater contaminant transport model,\n",
    "and calculates solutions to the stochastic inverse problem.\n",
    "The parameter domain is 5D, where the uncertain parameters are the x and y \n",
    "locations of the source, the horizontal dispersivity, the flow angle,\n",
    "and the contaminant flux. There are 11 measured QoIs in the data space \n",
    "available. By changing the choice of QoIs that we use to solve the stochastic\n",
    "inverse problem, we see the effect of geometric distinctness. \n",
    "Probabilities in the parameter space are \n",
    "calculated using the MC assumption.  1D and 2D marginals are calculated,\n",
    "smoothed, and plotted. The samples are then ranked by probability density\n",
    "and the volume of high-probability regions are calculated. Probabilistic predictions of other QoI are made.\n"
   ]
  },
  {
   "cell_type": "code",
   "execution_count": null,
   "metadata": {},
   "outputs": [],
   "source": [
    "import numpy as np\n",
    "import bet.calculateP as calculateP\n",
    "import bet.postProcess as postProcess\n",
    "import bet.calculateP.simpleFunP as simpleFunP\n",
    "import bet.calculateP.calculateP as calculateP\n",
    "import bet.postProcess.plotP as plotP\n",
    "import bet.postProcess.plotDomains as plotD\n",
    "import bet.postProcess.postTools as postTools\n",
    "import bet.sample as samp\n",
    "from IPython.display import Image\n",
    "import glob"
   ]
  },
  {
   "cell_type": "code",
   "execution_count": null,
   "metadata": {},
   "outputs": [],
   "source": [
    "# Labels and descriptions of the uncertain parameters\n",
    "labels = ['Source $y$ coordinate [L]', 'Source $x$ coordinate [L]', 'Dispersivity x [L]', 'Flow Angle [degrees]', 'Contaminant flux [M/T]']\n",
    "\n",
    "# Load data from files\n",
    "# First obtain info on the parameter domain\n",
    "parameter_domain = np.loadtxt(\"files/lam_domain.txt.gz\") #parameter domain\n",
    "parameter_dim = parameter_domain.shape[0]\n",
    "\n",
    "# Create input sample set\n",
    "input_samples = samp.sample_set(parameter_dim)\n",
    "input_samples.set_domain(parameter_domain)\n",
    "input_samples.set_values(np.loadtxt(\"files/samples.txt.gz\"))\n",
    "input_samples.estimate_volume_mc() # Use standard MC estimate of volumes\n",
    "\n",
    "# Choose which QoI to use and create output sample set\n",
    "QoI_indices_observe = np.array([0,1,2,3])\n",
    "output_samples = samp.sample_set(QoI_indices_observe.size)\n",
    "output_samples.set_values(np.loadtxt(\"files/data.txt.gz\")[:,QoI_indices_observe])"
   ]
  },
  {
   "cell_type": "code",
   "execution_count": null,
   "metadata": {},
   "outputs": [],
   "source": [
    "# Create discretization object\n",
    "my_discretization = samp.discretization(input_sample_set=input_samples,\n",
    "                                        output_sample_set=output_samples)\n",
    "\n",
    "# Load the reference parameter and QoI values\n",
    "param_ref = np.loadtxt(\"files/lam_ref.txt.gz\") #reference parameter set\n",
    "Q_ref = np.loadtxt(\"files/Q_ref.txt.gz\")[QoI_indices_observe] #reference QoI set\n",
    "\n",
    "# Plot the data domain\n",
    "plotD.scatter_rhoD(my_discretization, ref_sample=Q_ref, io_flag='output', showdim=2)"
   ]
  },
  {
   "cell_type": "code",
   "execution_count": null,
   "metadata": {},
   "outputs": [],
   "source": [
    "for f in glob.glob('output*.png'):\n",
    "        print(f)\n",
    "        display(Image(f))"
   ]
  },
  {
   "cell_type": "code",
   "execution_count": null,
   "metadata": {},
   "outputs": [],
   "source": [
    "# Whether or not to use deterministic description of simple function approximation of\n",
    "# ouput probability\n",
    "deterministic_discretize_D = True\n",
    "if deterministic_discretize_D == True:\n",
    "  simpleFunP.regular_partition_uniform_distribution_rectangle_scaled(data_set=my_discretization,\n",
    "                                                                     Q_ref=Q_ref,\n",
    "                                                                     rect_scale=0.25,\n",
    "                                                                     cells_per_dimension = 1)\n",
    "else:\n",
    "  simpleFunP.uniform_partition_uniform_distribution_rectangle_scaled(data_set=my_discretization,\n",
    "                                                                     Q_ref=Q_ref,\n",
    "                                                                     rect_scale=0.25,\n",
    "                                                                     M=50,\n",
    "                                                                     num_d_emulate=1E5)\n",
    "# calculate probablities making Monte Carlo assumption\n",
    "calculateP.prob(my_discretization)"
   ]
  },
  {
   "cell_type": "code",
   "execution_count": null,
   "metadata": {},
   "outputs": [],
   "source": [
    "# calculate 2D marginal probabilities\n",
    "(bins, marginals2D) = plotP.calculate_2D_marginal_probs(my_discretization.get_input_sample_set(), nbins = 10)\n",
    "\n",
    "# smooth 2D marginal probabilites for plotting (optional)\n",
    "marginals2D = plotP.smooth_marginals_2D(marginals2D, bins, sigma=1.0)\n",
    "\n",
    "# plot 2D marginal probabilities\n",
    "plotP.plot_2D_marginal_probs(marginals2D, bins, my_discretization, filename = \"contaminant_map\",\n",
    "                             plot_surface=False,\n",
    "                             lam_ref = param_ref,\n",
    "                             lambda_label=labels,\n",
    "                             interactive=False)"
   ]
  },
  {
   "cell_type": "code",
   "execution_count": null,
   "metadata": {},
   "outputs": [],
   "source": [
    "for f in glob.glob('contaminant_map_2D*.png'):\n",
    "        print(f)\n",
    "        display(Image(f))"
   ]
  },
  {
   "cell_type": "code",
   "execution_count": null,
   "metadata": {},
   "outputs": [],
   "source": [
    "# calculate 1d marginal probs\n",
    "(bins, marginals1D) = plotP.calculate_1D_marginal_probs(my_discretization.get_input_sample_set(), nbins = 20)\n",
    "\n",
    "# smooth 1d marginal probs (optional)\n",
    "marginals1D = plotP.smooth_marginals_1D(marginals1D, bins, sigma=1.0)\n",
    "\n",
    "# plot 1d marginal probs\n",
    "plotP.plot_1D_marginal_probs(marginals1D, bins, my_discretization,\n",
    "                             filename = \"contaminant_map\",\n",
    "                             interactive=False,\n",
    "                             lam_ref=param_ref,\n",
    "                             lambda_label=labels)"
   ]
  },
  {
   "cell_type": "code",
   "execution_count": null,
   "metadata": {},
   "outputs": [],
   "source": [
    "for f in glob.glob('contaminant_map_1D*.png'):\n",
    "        print(f)\n",
    "        display(Image(f))"
   ]
  },
  {
   "cell_type": "code",
   "execution_count": null,
   "metadata": {},
   "outputs": [],
   "source": [
    "percentile = 1.0\n",
    "# Sort samples by highest probability density and sample highest percentile percent samples\n",
    "(num_samples, my_discretization_highP, indices)= postTools.sample_highest_prob(\n",
    "    percentile, my_discretization, sort=True)\n",
    "\n",
    "# print the number of samples that make up the  highest percentile percent samples and\n",
    "# ratio of the volume of the parameter domain they take up\n",
    "print((num_samples, np.sum(my_discretization_highP._input_sample_set.get_volumes())))\n",
    "\n",
    "# Choose unused QoI as prediction QoI and propagate measure onto predicted QoI data space\n",
    "QoI_indices_predict = np.array([7])"
   ]
  },
  {
   "cell_type": "code",
   "execution_count": null,
   "metadata": {},
   "outputs": [],
   "source": [
    "output_samples_predict = samp.sample_set(QoI_indices_predict.size)\n",
    "output_samples_predict.set_values(np.loadtxt(\"files/data.txt.gz\")[:,QoI_indices_predict])\n",
    "output_samples_predict.set_probabilities(input_samples.get_probabilities())\n",
    "\n",
    "# Determine range of predictions and store as domain for plotting purposes\n",
    "output_samples_predict.set_domain(output_samples_predict.get_bounding_box())"
   ]
  },
  {
   "cell_type": "code",
   "execution_count": null,
   "metadata": {},
   "outputs": [],
   "source": [
    "# Plot 1D pdf of predicted QoI\n",
    "# calculate 1d marginal probs\n",
    "(bins_pred, marginals1D_pred) = plotP.calculate_1D_marginal_probs(output_samples_predict,\n",
    "                                                                  nbins = 20)\n",
    "\n",
    "# plot 1d pdf \n",
    "plotP.plot_1D_marginal_probs(marginals1D_pred, bins_pred, output_samples_predict,\n",
    "                             filename = \"contaminant_prediction\", interactive=False)"
   ]
  },
  {
   "cell_type": "code",
   "execution_count": null,
   "metadata": {},
   "outputs": [],
   "source": [
    "for f in glob.glob('contaminant_prediction*.png'):\n",
    "        print(f)\n",
    "        display(Image(f))"
   ]
  },
  {
   "cell_type": "markdown",
   "metadata": {},
   "source": []
  },
  {
   "cell_type": "code",
   "execution_count": null,
   "metadata": {},
   "outputs": [],
   "source": [
    "%store my_discretization\n",
    "%store param_ref\n",
    "%store Q_ref"
   ]
  },
  {
   "cell_type": "markdown",
   "metadata": {},
   "source": [
    "# Remove all Files (optional)"
   ]
  },
  {
   "cell_type": "code",
   "execution_count": null,
   "metadata": {},
   "outputs": [],
   "source": [
    "!rm *.png"
   ]
  }
 ],
 "metadata": {
  "kernelspec": {
   "display_name": "Python 3",
   "language": "python",
   "name": "python3"
  },
  "language_info": {
   "codemirror_mode": {
    "name": "ipython",
    "version": 3
   },
   "file_extension": ".py",
   "mimetype": "text/x-python",
   "name": "python",
   "nbconvert_exporter": "python",
   "pygments_lexer": "ipython3",
   "version": "3.6.8"
  }
 },
 "nbformat": 4,
 "nbformat_minor": 2
}
