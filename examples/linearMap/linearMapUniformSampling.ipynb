{
 "cells": [
  {
   "cell_type": "markdown",
   "metadata": {},
   "source": [
    "# Linear Map: Uniform Sampling\n",
    "Copyright (C) 2014-2019 The BET Development Team"
   ]
  },
  {
   "cell_type": "markdown",
   "metadata": {},
   "source": [
    "This example solves a stochastic inverse problem for a\n",
    "linear 3-to-2 map. We refer to the map as the QoI map,\n",
    "or just a QoI. We refer to the range of the QoI map as\n",
    "the data space.\n",
    "\n",
    "The 3-D input space is discretized with i.i.d. uniform\n",
    "random samples or a regular grid of samples.\n",
    "We refer to the input space as the\n",
    "parameter space, and use parameter to refer to a particular\n",
    "point (e.g., a particular random sample) in this space.\n",
    "A reference parameter is used to define a reference QoI datum\n",
    "and a uniform probability measure is defined on a small box\n",
    "centered at this datum.\n",
    "\n",
    "The measure on the data space is discretized either randomly\n",
    "or deterministically, and this discretized measure is then\n",
    "inverted by BET to determine a probability measure on the\n",
    "parameter space whose support contains the measurable sets\n",
    "of probable parameters.\n",
    "\n",
    "We use emulation to estimate the measures of sets defined by\n",
    "the random discretizations.\n",
    "1D and 2D marginals are calculated, smoothed, and plotted."
   ]
  },
  {
   "cell_type": "code",
   "execution_count": null,
   "metadata": {},
   "outputs": [],
   "source": [
    "import numpy as np\n",
    "import bet.calculateP.simpleFunP as simpleFunP\n",
    "import bet.calculateP.calculateP as calculateP\n",
    "import bet.sample as samp\n",
    "import bet.sampling.basicSampling as bsam\n",
    "from myModel import my_model"
   ]
  },
  {
   "cell_type": "markdown",
   "metadata": {},
   "source": [
    "# Characterize Parameter Space\n",
    "\n",
    "Define the sampler that will be used to create the discretization\n",
    "object, which is the fundamental object used by BET to compute\n",
    "solutions to the stochastic inverse problem.\n",
    "The `sampler` and `my_model` is the interface of BET to the model,\n",
    "and it allows BET to create input/output samples of the model."
   ]
  },
  {
   "cell_type": "code",
   "execution_count": null,
   "metadata": {},
   "outputs": [],
   "source": [
    "sampler = bsam.sampler(my_model)\n",
    "\n",
    "# Initialize 3-dimensional input parameter sample set object\n",
    "input_samples = samp.sample_set(3)\n",
    "\n",
    "# Set parameter domain\n",
    "input_samples.set_domain(np.repeat([[0.0, 1.0]], 3, axis=0))"
   ]
  },
  {
   "cell_type": "markdown",
   "metadata": {},
   "source": [
    "## Suggested Changes\n",
    "\n",
    "Try with and without random sampling.\n",
    "\n",
    "If using random sampling, try `num_samples = 1E3` and `1E4`.\n",
    "What happens when `num_samples = 1E2`?\n",
    "Try using `'lhs'` instead of `'random'` in the `random_sample_set`.\n",
    "\n",
    "If using regular sampling, try different numbers of samples\n",
    "per dimension.\n"
   ]
  },
  {
   "cell_type": "code",
   "execution_count": null,
   "metadata": {},
   "outputs": [],
   "source": [
    "# Generate samples on the parameter space\n",
    "randomSampling = False\n",
    "if randomSampling is True:\n",
    "    input_samples = sampler.random_sample_set('random', input_samples, num_samples=1E3)\n",
    "else:\n",
    "    input_samples = sampler.regular_sample_set(input_samples, num_samples_per_dim=[15, 15, 10])"
   ]
  },
  {
   "cell_type": "markdown",
   "metadata": {},
   "source": [
    "# Characterize Data Space\n",
    "Compute the output distribution simple function approximation by\n",
    "propagating a different set of samples to implicitly define a Voronoi\n",
    "discretization of the data space, corresponding to an implicitly defined\n",
    "set of contour events defining a discretization of the input parameter\n",
    "space. \n",
    "\n",
    "The probabilities of the Voronoi cells in the data space (and\n",
    "thus the probabilities of the corresponding contour events in the\n",
    "input parameter space) are determined by Monte Carlo sampling using\n",
    "a set of i.i.d. uniform samples to bin into these cells."
   ]
  },
  {
   "cell_type": "markdown",
   "metadata": {},
   "source": [
    "## Suggested Changes\n",
    "\n",
    "A standard Monte Carlo (MC) assumption is that every Voronoi cell\n",
    "has the same volume. If a regular grid of samples was used, then\n",
    "the standard MC assumption is true.\n",
    "\n",
    "See what happens if the MC assumption is not assumed to be true, and\n",
    "if different numbers of points are used to estimate the volumes of\n",
    "the Voronoi cells."
   ]
  },
  {
   "cell_type": "code",
   "execution_count": null,
   "metadata": {},
   "outputs": [],
   "source": [
    "MC_assumption = True\n",
    "# Estimate volumes of Voronoi cells associated with the parameter samples\n",
    "if MC_assumption is False:\n",
    "    input_samples.estimate_volume(n_mc_points=1E5)\n",
    "else:\n",
    "    input_samples.estimate_volume_mc()\n",
    "\n",
    "# Create the discretization object using the input samples\n",
    "my_discretization = sampler.compute_QoI_and_create_discretization(input_samples,\n",
    "                                               savefile = '3to2_discretization.txt.gz')"
   ]
  },
  {
   "cell_type": "markdown",
   "metadata": {},
   "source": [
    "# Solve Problem \n",
    "\n",
    "## Suggested Changes\n",
    "\n",
    "Try different reference parameters.\n",
    "\n",
    "Try different ways of discretizing the probability measure on D defined as a uniform\n",
    "probability measure on a rectangle (since D is 2-dimensional) centered at `Q_ref` whose\n",
    "size is determined by scaling the circumscribing box of D."
   ]
  },
  {
   "cell_type": "code",
   "execution_count": null,
   "metadata": {},
   "outputs": [],
   "source": [
    "# Define the reference parameter\n",
    "param_ref = np.array([0.5, 0.5, 0.5])\n",
    "#param_ref = np.array([0.75, 0.75, 0.5])\n",
    "#param_ref = np.array([0.75, 0.75, 0.75])\n",
    "#param_ref = np.array([0.5, 0.5, 0.75])\n",
    "\n",
    "# Compute the reference QoI\n",
    "Q_ref =  my_model(param_ref)"
   ]
  },
  {
   "cell_type": "code",
   "execution_count": null,
   "metadata": {},
   "outputs": [],
   "source": [
    "randomDataDiscretization = False\n",
    "if randomDataDiscretization is False:\n",
    "    simpleFunP.regular_partition_uniform_distribution_rectangle_scaled(\n",
    "        data_set=my_discretization, Q_ref=Q_ref, rect_scale=0.25,\n",
    "        cells_per_dimension = 3)\n",
    "else:\n",
    "    simpleFunP.uniform_partition_uniform_distribution_rectangle_scaled(\n",
    "        data_set=my_discretization, Q_ref=Q_ref, rect_scale=0.25,\n",
    "        M=50, num_d_emulate=1E5)\n",
    "\n",
    "# calculate probabilities\n",
    "calculateP.prob(my_discretization)"
   ]
  },
  {
   "cell_type": "code",
   "execution_count": null,
   "metadata": {},
   "outputs": [],
   "source": [
    "%store my_discretization\n",
    "%store param_ref\n",
    "%store Q_ref"
   ]
  }
 ],
 "metadata": {
  "kernelspec": {
   "display_name": "Python 3",
   "language": "python",
   "name": "python3"
  },
  "language_info": {
   "codemirror_mode": {
    "name": "ipython",
    "version": 3
   },
   "file_extension": ".py",
   "mimetype": "text/x-python",
   "name": "python",
   "nbconvert_exporter": "python",
   "pygments_lexer": "ipython3",
   "version": "3.7.3"
  }
 },
 "nbformat": 4,
 "nbformat_minor": 4
}
