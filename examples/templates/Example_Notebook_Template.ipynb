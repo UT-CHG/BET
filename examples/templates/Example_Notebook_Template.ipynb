{
 "cells": [
  {
   "cell_type": "markdown",
   "metadata": {},
   "source": [
    "# <center> Title: Example Notebook Template\n",
    "Copyright (C) 2014-2019 The BET Development Team\n"
   ]
  },
  {
   "cell_type": "markdown",
   "metadata": {},
   "source": [
    "Description of example goes here. What are your motivations? Outline the process."
   ]
  },
  {
   "cell_type": "code",
   "execution_count": null,
   "metadata": {},
   "outputs": [],
   "source": []
  },
  {
   "cell_type": "markdown",
   "metadata": {},
   "source": [
    "# Characterize Parameter Space\n",
    "\n",
    "Define the sampler that will be used to create the discretization\n",
    "object, which is the fundamental object used by BET to compute\n",
    "solutions to the stochastic inverse problem.\n",
    "The `sampler` and `my_model` is the interface of BET to the model,\n",
    "and it allows BET to create input/output samples of the model."
   ]
  },
  {
   "cell_type": "code",
   "execution_count": null,
   "metadata": {},
   "outputs": [],
   "source": []
  },
  {
   "cell_type": "markdown",
   "metadata": {},
   "source": [
    "## Suggested Changes \n",
    "\n",
    "Try with and without random sampling.\n",
    "\n",
    "If using random sampling, try `num_samples = 1E3` and `1E4`.\n",
    "What happens when `num_samples = 1E2`?\n",
    "Try using `'lhs'` instead of `'random'` in the `random_sample_set`.\n",
    "\n",
    "If using regular sampling, try different numbers of samples\n",
    "per dimension.\n"
   ]
  },
  {
   "cell_type": "markdown",
   "metadata": {},
   "source": [
    "# Characterize Data Space\n",
    "Compute the output distribution simple function approximation by\n",
    "propagating a different set of samples to implicitly define a Voronoi\n",
    "discretization of the data space, corresponding to an implicitly defined\n",
    "set of contour events defining a discretization of the input parameter\n",
    "space. \n",
    "\n",
    "The probabilities of the Voronoi cells in the data space (and\n",
    "thus the probabilities of the corresponding contour events in the\n",
    "input parameter space) are determined by Monte Carlo sampling using\n",
    "a set of i.i.d. uniform samples to bin into these cells."
   ]
  },
  {
   "cell_type": "markdown",
   "metadata": {},
   "source": [
    "## Suggested Changes\n",
    "\n",
    "A standard Monte Carlo (MC) assumption is that every Voronoi cell\n",
    "has the same volume. If a regular grid of samples was used, then\n",
    "the standard MC assumption is true.\n",
    "\n",
    "See what happens if the MC assumption is not assumed to be true, and\n",
    "if different numbers of points are used to estimate the volumes of\n",
    "the Voronoi cells."
   ]
  },
  {
   "cell_type": "code",
   "execution_count": null,
   "metadata": {},
   "outputs": [],
   "source": []
  }
 ],
 "metadata": {
  "kernelspec": {
   "display_name": "Python 3",
   "language": "python",
   "name": "python3"
  },
  "language_info": {
   "codemirror_mode": {
    "name": "ipython",
    "version": 3
   },
   "file_extension": ".py",
   "mimetype": "text/x-python",
   "name": "python",
   "nbconvert_exporter": "python",
   "pygments_lexer": "ipython3",
   "version": "3.6.8"
  }
 },
 "nbformat": 4,
 "nbformat_minor": 4
}
