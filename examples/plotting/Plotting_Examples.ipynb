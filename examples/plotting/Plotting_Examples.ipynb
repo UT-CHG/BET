{
 "cells": [
  {
   "cell_type": "markdown",
   "metadata": {},
   "source": [
    "# <center> Post-Processing: Plotting Results\n",
    "\n",
    "Copyright (C) 2014-2019 The BET Development Team\n",
    "\n",
    "This notebook demonstrates how to visualize the spaces involved in the stochastic inverse problem.\n",
    "We leverage some Jupyter `%magics` to load in data files using `%store -r` to recover `bet.sample.discretization` objects from other Example Notebooks.\n",
    "This notebook makes strong assumptions about directory structure. It may not work if moved.\n"
   ]
  },
  {
   "cell_type": "code",
   "execution_count": null,
   "metadata": {},
   "outputs": [],
   "source": [
    "import bet.postProcess.plotP as plotP\n",
    "import bet.postProcess.plotDomains as plotD\n",
    "from IPython.display import Image\n",
    "import glob"
   ]
  },
  {
   "cell_type": "markdown",
   "metadata": {},
   "source": [
    "## Create Data\n",
    "\n",
    "If you have not run a notebook, you can do so directly from the cell below: "
   ]
  },
  {
   "cell_type": "code",
   "execution_count": null,
   "metadata": {},
   "outputs": [],
   "source": [
    "folders = glob.glob('../*')\n",
    "folders = [f.replace('../','')+'/' for f in folders]\n",
    "# files irrelevant to examples\n",
    "folders.remove('matfiles/')\n",
    "folders.remove('plotting/')\n",
    "folders.remove('templates/')\n",
    "folders.remove('parallel_and_serial_sampling/')\n",
    "# needs work\n",
    "# folders.remove('sensitivity/') # heatmap and linear\n",
    "# folders.remove('contaminantTransport/') # contaminent\n",
    "\n",
    "# to do\n",
    "folders.remove('nonlinearMap/') # Dirichlet Poisson\n",
    "folders.remove('nonlinearMap_estimate_error/') # 3D multinomial\n",
    "\n",
    "# not yet done, unlikely to tackle.\n",
    "folders.remove('FEniCS/') \n",
    "folders.remove('fromFile_ADCIRCMap/') \n",
    "\n",
    "print('Pick an Example')\n",
    "for idx, f in enumerate(folders):\n",
    "    print('%2d. %s'%(idx,f[:-1] ))"
   ]
  },
  {
   "cell_type": "code",
   "execution_count": null,
   "metadata": {},
   "outputs": [],
   "source": [
    "############ MAKE SELECTION ############\n",
    "user_selection = 3\n",
    "########################################\n",
    "\n",
    "folder = '../'+folders[user_selection]\n",
    "notebook_files = glob.glob('%s/*.ipynb'%folder)\n",
    "print(\"You have selected %s. The files inside are:\\n\"%folder, *notebook_files)"
   ]
  },
  {
   "cell_type": "code",
   "execution_count": null,
   "metadata": {},
   "outputs": [],
   "source": [
    "for notebook in notebook_files:\n",
    "    example_filename = notebook[:-6] # strip file-ending\n",
    "    !jupyter nbconvert --ExecutePreprocessor.timeout=-1 --to notebook --execute $example_filename'.ipynb'\n",
    "    !rm $example_filename'.nbconvert.ipynb'\n",
    "print(\"Finished running file and cleaning up.\")"
   ]
  },
  {
   "cell_type": "markdown",
   "metadata": {},
   "source": [
    "# Load Data"
   ]
  },
  {
   "cell_type": "code",
   "execution_count": null,
   "metadata": {},
   "outputs": [],
   "source": [
    "%store -r my_discretization"
   ]
  },
  {
   "cell_type": "code",
   "execution_count": null,
   "metadata": {},
   "outputs": [],
   "source": [
    "input_samples = my_discretization.get_input_sample_set()\n",
    "output_samples = my_discretization.get_output_sample_set()\n",
    "dim_input, dim_output = input_samples.get_dim(), output_samples.get_dim()"
   ]
  },
  {
   "cell_type": "code",
   "execution_count": null,
   "metadata": {},
   "outputs": [],
   "source": [
    "print('This example maps a ' + str(dim_input) + \\\n",
    "' dimensional space to a ' + str(dim_output) + \\\n",
    "' dimensional space. ' + '\\nImages will be saved to: %s'%folder)"
   ]
  },
  {
   "cell_type": "markdown",
   "metadata": {},
   "source": [
    "## Suggested Changes\n",
    "The example notebooks have been formatted to store data at the end of their runs in the local Jupyter namespace but delete all associated data files. If you want to load this data with `np.load`, you are welcome to comment out the last cell in the example files and load the data from `.mat` files. \n",
    "\n",
    "At this point, the only thing that should change in the plotP.* inputs\n",
    "should be either the nbins values or sigma (which influences the kernel\n",
    "density estimation with smaller values implying a density estimate that\n",
    "looks more like a histogram and larger values smoothing out the values\n",
    "more).\n",
    "\n",
    "There are ways to determine \"optimal\" smoothing parameters (e.g., see CV, GCV,\n",
    "and other similar methods), but we have not incorporated these into the code\n",
    "as lower-dimensional marginal plots generally have limited value in understanding\n",
    "the structure of a high dimensional non-parametric probability measure."
   ]
  },
  {
   "cell_type": "markdown",
   "metadata": {},
   "source": [
    "## 2D Plots"
   ]
  },
  {
   "cell_type": "markdown",
   "metadata": {},
   "source": [
    "## Input Space"
   ]
  },
  {
   "cell_type": "code",
   "execution_count": null,
   "metadata": {},
   "outputs": [],
   "source": [
    "input_bins_per_dim = [10 for _ in range(dim_input)]\n",
    "marker_size = 50\n",
    "if dim_input==2:\n",
    "    # Show some plots of the different sample sets\n",
    "    plotD.scatter_2D_input(my_discretization, markersize = marker_size,\n",
    "                    filename = '%sParameter_Samples'%folder,\n",
    "                    file_extension = '.png')\n",
    "\n",
    "else:\n",
    "    print(\"Higher than 2D detected. Using `multi` mode.\")\n",
    "    %store -r param_ref\n",
    "    plotD.scatter_2D_multi(input_samples, ref_sample=param_ref, showdim = 'all',\n",
    "                    filename = 'Parameter_Samples', img_folder=folder,\n",
    "                    markersize = marker_size, file_extension = '.png')\n",
    "    \n",
    "\n",
    "print(\"Input space plotting completed. You can now view your images.\")"
   ]
  },
  {
   "cell_type": "markdown",
   "metadata": {},
   "source": [
    "### Parameter Samples"
   ]
  },
  {
   "cell_type": "code",
   "execution_count": null,
   "metadata": {},
   "outputs": [],
   "source": [
    "# display(Image('%sParameter_Samples.png'%folder))\n",
    "for f in glob.glob('%sParameter_Samples*.png'%(folder)):\n",
    "        print(f)\n",
    "        display(Image(f))\n",
    "        "
   ]
  },
  {
   "cell_type": "markdown",
   "metadata": {},
   "source": [
    "## Output Samples"
   ]
  },
  {
   "cell_type": "code",
   "execution_count": null,
   "metadata": {},
   "outputs": [],
   "source": [
    "output_bins_per_dim = [10 for _ in range(output_samples.get_dim())]\n",
    "marker_size = 25\n",
    "if dim_output==2:\n",
    "    plotD.scatter_2D_output(my_discretization, markersize=marker_size,\n",
    "                    filename = '%sQoI_Samples'%(folder),\n",
    "                    file_extension = '.png')\n",
    "    # plot observed distribution discretization\n",
    "    plotD.scatter_2D(my_discretization._output_probability_set, markersize=marker_size*10,\n",
    "                    filename = '%sData_Space_Discretization'%(folder),\n",
    "                    file_extension = '.png')\n",
    "\n",
    "else:\n",
    "    %store -r Q_ref\n",
    "    print(\"Higher than 2D detected. Using `multi` mode.\")\n",
    "    plotD.scatter_2D_multi(output_samples, ref_sample=Q_ref, showdim = 'all',\n",
    "                    filename = 'QoI_Samples', img_folder=folder,\n",
    "                    file_extension = '.png')\n",
    "    \n",
    "    plotD.scatter_2D_multi(my_discretization._output_probability_set, \n",
    "                    ref_sample=Q_ref, showdim = 'all', markersize=marker_size*10,\n",
    "                    filename = 'Data_Space_Discretization', img_folder=folder,\n",
    "                    file_extension = '.png')\n",
    "    \n",
    "    plotD.show_data_domain_multi(my_discretization, Q_ref=Q_ref, showdim = 'all',\n",
    "                    img_folder=folder, file_extension='.png')\n",
    "\n",
    "print(\"Output space plotting completed. You can now view your images.\")"
   ]
  },
  {
   "cell_type": "markdown",
   "metadata": {},
   "source": [
    "### QoI Samples"
   ]
  },
  {
   "cell_type": "code",
   "execution_count": null,
   "metadata": {},
   "outputs": [],
   "source": [
    "for f in glob.glob('%s/QoI_Samples*.png'%(folder)):\n",
    "    print(f)\n",
    "    display(Image(f))"
   ]
  },
  {
   "cell_type": "code",
   "execution_count": null,
   "metadata": {},
   "outputs": [],
   "source": [
    "# for multi-plots\n",
    "for f in glob.glob('%s/q*domain*.png'%(folder)):\n",
    "    print(f)\n",
    "    display(Image(f))\n",
    "    \n",
    "## plot without reference data parameter:\n",
    "# for f in glob.glob('%s/domain*.png'%(folder)):\n",
    "#         print(f)\n",
    "#         display(Image(f))"
   ]
  },
  {
   "cell_type": "markdown",
   "metadata": {},
   "source": [
    "## Data Space"
   ]
  },
  {
   "cell_type": "code",
   "execution_count": null,
   "metadata": {},
   "outputs": [],
   "source": [
    "for f in glob.glob('%sData_Space_Discretization*'%(folder)):\n",
    "    print(f)\n",
    "    display(Image(f))"
   ]
  },
  {
   "cell_type": "markdown",
   "metadata": {},
   "source": [
    "# Solution to Stochastic Inverse Problem\n",
    "(Try changing `sigma`, the smoothing parameter)"
   ]
  },
  {
   "cell_type": "code",
   "execution_count": null,
   "metadata": {},
   "outputs": [],
   "source": [
    "sigma = 1\n",
    "input_bins_per_dim = [10 for _ in range(dim_input)]\n",
    "if dim_input > 1:\n",
    "    # calculate 2d marginal probs\n",
    "    (bins, marginals2D) = plotP.calculate_2D_marginal_probs(input_samples,\n",
    "                    nbins = input_bins_per_dim)\n",
    "\n",
    "    # plot 2d marginals probs\n",
    "    plotP.plot_2D_marginal_probs(marginals2D, bins, input_samples, \n",
    "                    filename = '%s%s_raw'%(folder, folder[3:-1]),\n",
    "                    file_extension = '.png', plot_surface=False)\n",
    "\n",
    "    # smooth 2d marginals probs (optional)\n",
    "    marginals2D = plotP.smooth_marginals_2D(marginals2D, bins, sigma=sigma)\n",
    "\n",
    "    # plot 2d marginals probs\n",
    "    plotP.plot_2D_marginal_probs(marginals2D, bins, input_samples, \n",
    "                    filename = '%s%s_smooth'%(folder, folder[3:-1]), \n",
    "                    file_extension = '.png', plot_surface=False)"
   ]
  },
  {
   "cell_type": "code",
   "execution_count": null,
   "metadata": {},
   "outputs": [],
   "source": [
    "for f in glob.glob('%s*2D*'%(folder)):\n",
    "    print(f)\n",
    "    display(Image(f))"
   ]
  },
  {
   "cell_type": "markdown",
   "metadata": {},
   "source": [
    "## 1D Plots"
   ]
  },
  {
   "cell_type": "code",
   "execution_count": null,
   "metadata": {},
   "outputs": [],
   "source": [
    "# calculate 1d marginal probs\n",
    "(bins, marginals1D) = plotP.calculate_1D_marginal_probs(input_samples,\n",
    "                                                        nbins = input_bins_per_dim)\n",
    "\n",
    "# plot 1d marginal probs\n",
    "plotP.plot_1D_marginal_probs(marginals1D, bins, input_samples,\n",
    "                             filename = '%s%s_raw'%(folder, folder[3:-1]),\n",
    "                             file_extension = '.png')\n",
    "\n",
    "# smooth 1d marginal probs (optional)\n",
    "marginals1D = plotP.smooth_marginals_1D(marginals1D, bins, sigma=sigma)\n",
    "\n",
    "# plot 2d marginal probs\n",
    "plotP.plot_1D_marginal_probs(marginals1D, bins, input_samples,\n",
    "                             filename = '%s%s_smooth'%(folder, folder[3:-1]),\n",
    "                             file_extension = '.png')\n"
   ]
  },
  {
   "cell_type": "markdown",
   "metadata": {},
   "source": [
    "## Raw 1D Marginals"
   ]
  },
  {
   "cell_type": "code",
   "execution_count": null,
   "metadata": {},
   "outputs": [],
   "source": [
    "for f in glob.glob('%s%s_raw_1D*'%(folder, folder[3:-1])):\n",
    "    print(f)\n",
    "    display(Image(f))"
   ]
  },
  {
   "cell_type": "markdown",
   "metadata": {},
   "source": [
    "## Smoothed 1D Marginals"
   ]
  },
  {
   "cell_type": "code",
   "execution_count": null,
   "metadata": {},
   "outputs": [],
   "source": [
    "for f in glob.glob('%s%s_smooth_1D*'%(folder, folder[3:-1])):\n",
    "    print(f)\n",
    "    display(Image(f))"
   ]
  },
  {
   "cell_type": "markdown",
   "metadata": {},
   "source": [
    "# Remove all Files (optional)"
   ]
  },
  {
   "cell_type": "code",
   "execution_count": null,
   "metadata": {},
   "outputs": [],
   "source": [
    "!rm $folder*.png"
   ]
  }
 ],
 "metadata": {
  "kernelspec": {
   "display_name": "Python 3",
   "language": "python",
   "name": "python3"
  },
  "language_info": {
   "codemirror_mode": {
    "name": "ipython",
    "version": 3
   },
   "file_extension": ".py",
   "mimetype": "text/x-python",
   "name": "python",
   "nbconvert_exporter": "python",
   "pygments_lexer": "ipython3",
   "version": "3.6.8"
  }
 },
 "nbformat": 4,
 "nbformat_minor": 2
}
